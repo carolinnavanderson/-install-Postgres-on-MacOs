{
 "cells": [
  {
   "cell_type": "markdown",
   "id": "c784dbb3",
   "metadata": {
    "papermill": {
     "duration": 0.007617,
     "end_time": "2022-12-24T15:39:41.491962",
     "exception": false,
     "start_time": "2022-12-24T15:39:41.484345",
     "status": "completed"
    },
    "tags": []
   },
   "source": [
    "**This notebook is an exercise in the [Intro to Programming](https://www.kaggle.com/learn/intro-to-programming) course.  You can reference the tutorial at [this link](https://www.kaggle.com/alexisbcook/data-types).**\n",
    "\n",
    "---\n"
   ]
  },
  {
   "cell_type": "markdown",
   "id": "d8a82df6",
   "metadata": {
    "papermill": {
     "duration": 0.006563,
     "end_time": "2022-12-24T15:39:41.505249",
     "exception": false,
     "start_time": "2022-12-24T15:39:41.498686",
     "status": "completed"
    },
    "tags": []
   },
   "source": [
    "In the tutorial, you learned about four different data types: floats, integers, strings, and booleans.  In this exercise, you'll experiment with them.\n",
    "\n",
    "# Set up the notebook\n",
    "\n",
    "Run the next code cell without changes to set up the notebook."
   ]
  },
  {
   "cell_type": "code",
   "execution_count": 1,
   "id": "7ac620cb",
   "metadata": {
    "execution": {
     "iopub.execute_input": "2022-12-24T15:39:41.519776Z",
     "iopub.status.busy": "2022-12-24T15:39:41.519333Z",
     "iopub.status.idle": "2022-12-24T15:39:41.571220Z",
     "shell.execute_reply": "2022-12-24T15:39:41.569938Z"
    },
    "papermill": {
     "duration": 0.062193,
     "end_time": "2022-12-24T15:39:41.573844",
     "exception": false,
     "start_time": "2022-12-24T15:39:41.511651",
     "status": "completed"
    },
    "tags": []
   },
   "outputs": [
    {
     "name": "stdout",
     "output_type": "stream",
     "text": [
      "Setup complete.\n"
     ]
    }
   ],
   "source": [
    "# Set up the exercise\n",
    "from learntools.core import binder\n",
    "binder.bind(globals())\n",
    "from learntools.intro_to_programming.ex3 import *\n",
    "print('Setup complete.')"
   ]
  },
  {
   "cell_type": "markdown",
   "id": "f608a83c",
   "metadata": {
    "papermill": {
     "duration": 0.006046,
     "end_time": "2022-12-24T15:39:41.586869",
     "exception": false,
     "start_time": "2022-12-24T15:39:41.580823",
     "status": "completed"
    },
    "tags": []
   },
   "source": [
    "# Question 1\n",
    "\n",
    "You have seen how to convert a float to an integer with the `int` function.  Try this out yourself by running the code cell below."
   ]
  },
  {
   "cell_type": "code",
   "execution_count": 2,
   "id": "fbe983a8",
   "metadata": {
    "execution": {
     "iopub.execute_input": "2022-12-24T15:39:41.601540Z",
     "iopub.status.busy": "2022-12-24T15:39:41.601161Z",
     "iopub.status.idle": "2022-12-24T15:39:41.607441Z",
     "shell.execute_reply": "2022-12-24T15:39:41.606163Z"
    },
    "papermill": {
     "duration": 0.016771,
     "end_time": "2022-12-24T15:39:41.610085",
     "exception": false,
     "start_time": "2022-12-24T15:39:41.593314",
     "status": "completed"
    },
    "tags": []
   },
   "outputs": [
    {
     "name": "stdout",
     "output_type": "stream",
     "text": [
      "1.987\n",
      "<class 'float'>\n",
      "1\n",
      "<class 'int'>\n"
     ]
    }
   ],
   "source": [
    "# Define a float\n",
    "y = 1.987\n",
    "print(y)\n",
    "print(type(y))\n",
    "\n",
    "# Convert float to integer with the int function\n",
    "z = int(y)\n",
    "print(z)\n",
    "print(type(z))"
   ]
  },
  {
   "cell_type": "markdown",
   "id": "a450af43",
   "metadata": {
    "papermill": {
     "duration": 0.006061,
     "end_time": "2022-12-24T15:39:41.622607",
     "exception": false,
     "start_time": "2022-12-24T15:39:41.616546",
     "status": "completed"
    },
    "tags": []
   },
   "source": [
    "In this case, the float you are using has no numbers after the decimal.  \n",
    "- But what happens when you try to convert a float with a fractional part to an integer?  \n",
    "- How does the outcome of the `int` function change for positive and negative numbers?\n",
    "\n",
    "Use the next code cell to investigate and answer these questions.  Feel free to add or remove any lines of code -- it is your workspace!"
   ]
  },
  {
   "cell_type": "code",
   "execution_count": 3,
   "id": "837ff0e4",
   "metadata": {
    "execution": {
     "iopub.execute_input": "2022-12-24T15:39:41.636894Z",
     "iopub.status.busy": "2022-12-24T15:39:41.636480Z",
     "iopub.status.idle": "2022-12-24T15:39:41.642915Z",
     "shell.execute_reply": "2022-12-24T15:39:41.641799Z"
    },
    "papermill": {
     "duration": 0.016252,
     "end_time": "2022-12-24T15:39:41.645209",
     "exception": false,
     "start_time": "2022-12-24T15:39:41.628957",
     "status": "completed"
    },
    "tags": []
   },
   "outputs": [
    {
     "name": "stdout",
     "output_type": "stream",
     "text": [
      "1\n",
      "1\n",
      "-3\n",
      "-2\n"
     ]
    }
   ],
   "source": [
    "# Uncomment and run this code to get started!\n",
    "print(int(1.2321))\n",
    "print(int(1.747))\n",
    "print(int(-3.94535))\n",
    "print(int(-2.19774))"
   ]
  },
  {
   "cell_type": "markdown",
   "id": "456c5344",
   "metadata": {
    "papermill": {
     "duration": 0.007675,
     "end_time": "2022-12-24T15:39:41.659363",
     "exception": false,
     "start_time": "2022-12-24T15:39:41.651688",
     "status": "completed"
    },
    "tags": []
   },
   "source": [
    "Once you have an answer, run the code cell below to see the solution.  Viewing the solution will give you credit for answering the problem."
   ]
  },
  {
   "cell_type": "code",
   "execution_count": 4,
   "id": "9287b345",
   "metadata": {
    "execution": {
     "iopub.execute_input": "2022-12-24T15:39:41.674000Z",
     "iopub.status.busy": "2022-12-24T15:39:41.673589Z",
     "iopub.status.idle": "2022-12-24T15:39:41.680266Z",
     "shell.execute_reply": "2022-12-24T15:39:41.679049Z"
    },
    "papermill": {
     "duration": 0.017325,
     "end_time": "2022-12-24T15:39:41.683044",
     "exception": false,
     "start_time": "2022-12-24T15:39:41.665719",
     "status": "completed"
    },
    "tags": []
   },
   "outputs": [
    {
     "name": "stdout",
     "output_type": "stream",
     "text": [
      "1.987\n",
      "<class 'float'>\n",
      "1\n",
      "<class 'int'>\n"
     ]
    }
   ],
   "source": [
    "# Check your answer (Run this code cell to receive credit!)\n",
    "# Define a float\n",
    "y = 1.987\n",
    "print(y)\n",
    "print(type(y))\n",
    "\n",
    "# Convert float to integer with the int function\n",
    "z = int(y)\n",
    "print(z)\n",
    "print(type(z))\n"
   ]
  },
  {
   "cell_type": "markdown",
   "id": "b9f702e3",
   "metadata": {
    "papermill": {
     "duration": 0.006483,
     "end_time": "2022-12-24T15:39:41.696920",
     "exception": false,
     "start_time": "2022-12-24T15:39:41.690437",
     "status": "completed"
    },
    "tags": []
   },
   "source": [
    "# Question 2\n",
    "\n",
    "In the tutorial, you learned about booleans (which can take a value of `True` or `False`), in addition to integers, floats, and strings.  For this question, your goal is to determine what happens when you multiply a boolean by any of these data types.  Specifically, \n",
    "- What happens when you multiply an integer or float by `True`?  What happens when you multiply them by `False`?  How does the answer change if the numbers are positive or negative?\n",
    "- What happens when you multiply a string by `True`?  By `False`?\n",
    "\n",
    "Use the next code cell for your investigation. "
   ]
  },
  {
   "cell_type": "code",
   "execution_count": 5,
   "id": "5e35cce8",
   "metadata": {
    "execution": {
     "iopub.execute_input": "2022-12-24T15:39:41.711638Z",
     "iopub.status.busy": "2022-12-24T15:39:41.711235Z",
     "iopub.status.idle": "2022-12-24T15:39:41.717319Z",
     "shell.execute_reply": "2022-12-24T15:39:41.716208Z"
    },
    "papermill": {
     "duration": 0.01617,
     "end_time": "2022-12-24T15:39:41.719686",
     "exception": false,
     "start_time": "2022-12-24T15:39:41.703516",
     "status": "completed"
    },
    "tags": []
   },
   "outputs": [
    {
     "name": "stdout",
     "output_type": "stream",
     "text": [
      "3\n",
      "-3.1\n",
      "<class 'str'>\n",
      "0\n"
     ]
    }
   ],
   "source": [
    "# Uncomment and run this code to get started!\n",
    "print(3 * True)\n",
    "print(-3.1 * True)\n",
    "print(type(\"abc\" * False))\n",
    "print(len(\"abc\" * False))"
   ]
  },
  {
   "cell_type": "markdown",
   "id": "68dd3555",
   "metadata": {
    "papermill": {
     "duration": 0.006268,
     "end_time": "2022-12-24T15:39:41.732707",
     "exception": false,
     "start_time": "2022-12-24T15:39:41.726439",
     "status": "completed"
    },
    "tags": []
   },
   "source": [
    "Once you have an answer, run the code cell below to see the solution.  Viewing the solution will give you credit for answering the problem."
   ]
  },
  {
   "cell_type": "code",
   "execution_count": 6,
   "id": "2be3547b",
   "metadata": {
    "execution": {
     "iopub.execute_input": "2022-12-24T15:39:41.747467Z",
     "iopub.status.busy": "2022-12-24T15:39:41.747042Z",
     "iopub.status.idle": "2022-12-24T15:39:41.757636Z",
     "shell.execute_reply": "2022-12-24T15:39:41.756754Z"
    },
    "papermill": {
     "duration": 0.020503,
     "end_time": "2022-12-24T15:39:41.759742",
     "exception": false,
     "start_time": "2022-12-24T15:39:41.739239",
     "status": "completed"
    },
    "tags": []
   },
   "outputs": [
    {
     "data": {
      "application/javascript": [
       "parent.postMessage({\"jupyterEvent\": \"custom.exercise_interaction\", \"data\": {\"outcomeType\": 1, \"valueTowardsCompletion\": 0.2, \"interactionType\": 1, \"questionType\": 4, \"questionId\": \"2_MultiplyBooleans\", \"learnToolsVersion\": \"0.3.4\", \"failureMessage\": \"\", \"exceptionClass\": \"\", \"trace\": \"\"}}, \"*\")"
      ],
      "text/plain": [
       "<IPython.core.display.Javascript object>"
      ]
     },
     "metadata": {},
     "output_type": "display_data"
    },
    {
     "data": {
      "text/markdown": [
       "<span style=\"color:#33cc33\">Correct:</span> \n",
       "\n",
       "When you multiple an integer or float by a boolean with value `True`, it just returns that same integer or float (and is equivalent to multiplying by 1).  If you multiply an integer or float by a boolean with value `False`, it always returns 0.  This is true for both positive and negative numbers.  If you multiply a string by a boolean with value `True`, it just returns that same string.  And if you multiply a string by a boolean with value `False`, it returns an empty string (or a string with length zero)."
      ],
      "text/plain": [
       "Correct: \n",
       "\n",
       "When you multiple an integer or float by a boolean with value `True`, it just returns that same integer or float (and is equivalent to multiplying by 1).  If you multiply an integer or float by a boolean with value `False`, it always returns 0.  This is true for both positive and negative numbers.  If you multiply a string by a boolean with value `True`, it just returns that same string.  And if you multiply a string by a boolean with value `False`, it returns an empty string (or a string with length zero)."
      ]
     },
     "metadata": {},
     "output_type": "display_data"
    }
   ],
   "source": [
    "# Check your answer (Run this code cell to receive credit!)\n",
    "q2.check()"
   ]
  },
  {
   "cell_type": "markdown",
   "id": "d28c240b",
   "metadata": {
    "papermill": {
     "duration": 0.006774,
     "end_time": "2022-12-24T15:39:41.773808",
     "exception": false,
     "start_time": "2022-12-24T15:39:41.767034",
     "status": "completed"
    },
    "tags": []
   },
   "source": [
    "# Question 3\n",
    "\n",
    "In this question, you will build off your work from the previous exercise to write a function that estimates the value of a house.\n",
    "\n",
    "Use the next code cell to create a function `get_expected_cost` that takes as input three variables:\n",
    "- `beds` - number of bedrooms (data type float)\n",
    "- `baths` - number of bathrooms (data type float)\n",
    "- `has_basement` - whether or not the house has a basement (data type boolean)\n",
    "\n",
    "It should return the expected cost of a house with those characteristics. Assume that:\n",
    "- the expected cost for a house with 0 bedrooms and 0 bathrooms, and no basement is 80000, \n",
    "- each bedroom adds 30000 to the expected cost,\n",
    "- each bathroom adds 10000 to the expected cost, and\n",
    "- a basement adds 40000 to the expected cost.\n",
    "\n",
    "For instance,\n",
    "- a house with 1 bedroom, 1 bathroom, and no basement has an expected cost of 80000 + 30000 + 10000 = 120000.  This value will be calculated with `get_expected_cost(1, 1, False)`.\n",
    "- a house with 2 bedrooms, 1 bathroom, and a basement has an expected cost of 80000 + 2*30000 + 10000 + 40000 = 190000.  This value will be calculated with `get_expected_cost(2, 1, True)`.\n",
    "\n",
    "Remember you can always get a hint by uncommenting `q3.hint()` in the code cell following the next!"
   ]
  },
  {
   "cell_type": "code",
   "execution_count": 7,
   "id": "2fd30afa",
   "metadata": {
    "execution": {
     "iopub.execute_input": "2022-12-24T15:39:41.790222Z",
     "iopub.status.busy": "2022-12-24T15:39:41.789827Z",
     "iopub.status.idle": "2022-12-24T15:39:41.799401Z",
     "shell.execute_reply": "2022-12-24T15:39:41.798026Z"
    },
    "papermill": {
     "duration": 0.021109,
     "end_time": "2022-12-24T15:39:41.801961",
     "exception": false,
     "start_time": "2022-12-24T15:39:41.780852",
     "status": "completed"
    },
    "tags": []
   },
   "outputs": [
    {
     "data": {
      "application/javascript": [
       "parent.postMessage({\"jupyterEvent\": \"custom.exercise_interaction\", \"data\": {\"outcomeType\": 1, \"valueTowardsCompletion\": 0.2, \"interactionType\": 1, \"questionType\": 2, \"questionId\": \"3_EstimateHouseValueBool\", \"learnToolsVersion\": \"0.3.4\", \"failureMessage\": \"\", \"exceptionClass\": \"\", \"trace\": \"\"}}, \"*\")"
      ],
      "text/plain": [
       "<IPython.core.display.Javascript object>"
      ]
     },
     "metadata": {},
     "output_type": "display_data"
    },
    {
     "data": {
      "text/markdown": [
       "<span style=\"color:#33cc33\">Correct</span>"
      ],
      "text/plain": [
       "Correct"
      ]
     },
     "metadata": {},
     "output_type": "display_data"
    }
   ],
   "source": [
    "# TODO: Complete the function\n",
    "def get_expected_cost(beds, baths, has_basement):\n",
    "    value = 80000 + 30000 * beds + 10000 * baths + 40000 * has_basement\n",
    "    return value\n",
    "\n",
    "\n",
    "# Check your answer \n",
    "q3.check()"
   ]
  },
  {
   "cell_type": "code",
   "execution_count": 8,
   "id": "010ae27e",
   "metadata": {
    "execution": {
     "iopub.execute_input": "2022-12-24T15:39:41.818683Z",
     "iopub.status.busy": "2022-12-24T15:39:41.818284Z",
     "iopub.status.idle": "2022-12-24T15:39:41.830704Z",
     "shell.execute_reply": "2022-12-24T15:39:41.829517Z"
    },
    "papermill": {
     "duration": 0.023216,
     "end_time": "2022-12-24T15:39:41.832907",
     "exception": false,
     "start_time": "2022-12-24T15:39:41.809691",
     "status": "completed"
    },
    "tags": []
   },
   "outputs": [
    {
     "data": {
      "application/javascript": [
       "parent.postMessage({\"jupyterEvent\": \"custom.exercise_interaction\", \"data\": {\"interactionType\": 2, \"questionType\": 2, \"questionId\": \"3_EstimateHouseValueBool\", \"learnToolsVersion\": \"0.3.4\", \"valueTowardsCompletion\": 0.0, \"failureMessage\": \"\", \"exceptionClass\": \"\", \"trace\": \"\", \"outcomeType\": 4}}, \"*\")"
      ],
      "text/plain": [
       "<IPython.core.display.Javascript object>"
      ]
     },
     "metadata": {},
     "output_type": "display_data"
    },
    {
     "data": {
      "text/markdown": [
       "<span style=\"color:#3366cc\">Hint:</span> The variable `has_basement` is either `True` or `False`.  What happens when you multiply it by 40000 (the value of a basement)?  Refer to the previous question if you are unsure."
      ],
      "text/plain": [
       "Hint: The variable `has_basement` is either `True` or `False`.  What happens when you multiply it by 40000 (the value of a basement)?  Refer to the previous question if you are unsure."
      ]
     },
     "metadata": {},
     "output_type": "display_data"
    },
    {
     "data": {
      "application/javascript": [
       "parent.postMessage({\"jupyterEvent\": \"custom.exercise_interaction\", \"data\": {\"interactionType\": 3, \"questionType\": 2, \"questionId\": \"3_EstimateHouseValueBool\", \"learnToolsVersion\": \"0.3.4\", \"valueTowardsCompletion\": 0.0, \"failureMessage\": \"\", \"exceptionClass\": \"\", \"trace\": \"\", \"outcomeType\": 4}}, \"*\")"
      ],
      "text/plain": [
       "<IPython.core.display.Javascript object>"
      ]
     },
     "metadata": {},
     "output_type": "display_data"
    },
    {
     "data": {
      "text/markdown": [
       "<span style=\"color:#33cc99\">Solution:</span> \n",
       "```python\n",
       "def get_expected_cost(beds, baths, has_basement):\n",
       "    value = 80000 + 30000 * beds + 10000 * baths + 40000 * has_basement\n",
       "    return value\n",
       "\n",
       "```"
      ],
      "text/plain": [
       "Solution: \n",
       "```python\n",
       "def get_expected_cost(beds, baths, has_basement):\n",
       "    value = 80000 + 30000 * beds + 10000 * baths + 40000 * has_basement\n",
       "    return value\n",
       "\n",
       "```"
      ]
     },
     "metadata": {},
     "output_type": "display_data"
    }
   ],
   "source": [
    "# Uncomment to see a hint\n",
    "q3.hint()\n",
    "\n",
    "# Uncomment to view the solution\n",
    "q3.solution()"
   ]
  },
  {
   "cell_type": "markdown",
   "id": "02142eff",
   "metadata": {
    "papermill": {
     "duration": 0.007499,
     "end_time": "2022-12-24T15:39:41.848099",
     "exception": false,
     "start_time": "2022-12-24T15:39:41.840600",
     "status": "completed"
    },
    "tags": []
   },
   "source": [
    "# Question 4\n",
    "\n",
    "We'll continue our study of boolean arithmetic.  For this question, your task is to provide a description of what happpens when you add booleans. \n",
    "\n",
    "Use the next code cell for your investigation.  Feel free to add or remove any lines of code - use it as your workspace!"
   ]
  },
  {
   "cell_type": "code",
   "execution_count": 9,
   "id": "50d5bd63",
   "metadata": {
    "execution": {
     "iopub.execute_input": "2022-12-24T15:39:41.865380Z",
     "iopub.status.busy": "2022-12-24T15:39:41.864547Z",
     "iopub.status.idle": "2022-12-24T15:39:41.871075Z",
     "shell.execute_reply": "2022-12-24T15:39:41.869946Z"
    },
    "papermill": {
     "duration": 0.017771,
     "end_time": "2022-12-24T15:39:41.873492",
     "exception": false,
     "start_time": "2022-12-24T15:39:41.855721",
     "status": "completed"
    },
    "tags": []
   },
   "outputs": [
    {
     "name": "stdout",
     "output_type": "stream",
     "text": [
      "0\n",
      "1\n",
      "1\n",
      "1\n",
      "2\n",
      "1\n",
      "1\n",
      "4\n"
     ]
    }
   ],
   "source": [
    "print(False + False)\n",
    "print(True + False)\n",
    "print (False + True)\n",
    "print(True + False)\n",
    "print(True + True + False)\n",
    "print(True + False + False)\n",
    "print(False + True + False)\n",
    "print(True + True + False + True + True + False)\n",
    "\n",
    "\n",
    "\n",
    "\n"
   ]
  },
  {
   "cell_type": "markdown",
   "id": "5d1c2e0b",
   "metadata": {
    "papermill": {
     "duration": 0.00744,
     "end_time": "2022-12-24T15:39:41.888715",
     "exception": false,
     "start_time": "2022-12-24T15:39:41.881275",
     "status": "completed"
    },
    "tags": []
   },
   "source": [
    "Once you have an answer, run the code cell below to see the solution.  Viewing the solution will give you credit for answering the problem."
   ]
  },
  {
   "cell_type": "code",
   "execution_count": 10,
   "id": "757dfb83",
   "metadata": {
    "execution": {
     "iopub.execute_input": "2022-12-24T15:39:41.906379Z",
     "iopub.status.busy": "2022-12-24T15:39:41.905358Z",
     "iopub.status.idle": "2022-12-24T15:39:41.912953Z",
     "shell.execute_reply": "2022-12-24T15:39:41.912195Z"
    },
    "papermill": {
     "duration": 0.018762,
     "end_time": "2022-12-24T15:39:41.915192",
     "exception": false,
     "start_time": "2022-12-24T15:39:41.896430",
     "status": "completed"
    },
    "tags": []
   },
   "outputs": [
    {
     "data": {
      "application/javascript": [
       "parent.postMessage({\"jupyterEvent\": \"custom.exercise_interaction\", \"data\": {\"outcomeType\": 1, \"valueTowardsCompletion\": 0.2, \"interactionType\": 1, \"questionType\": 4, \"questionId\": \"4_AddingBooleans\", \"learnToolsVersion\": \"0.3.4\", \"failureMessage\": \"\", \"exceptionClass\": \"\", \"trace\": \"\"}}, \"*\")"
      ],
      "text/plain": [
       "<IPython.core.display.Javascript object>"
      ]
     },
     "metadata": {},
     "output_type": "display_data"
    },
    {
     "data": {
      "text/markdown": [
       "<span style=\"color:#33cc33\">Correct:</span> \n",
       "\n",
       "When you add booleans, adding `False` is equivalent to adding 0, and adding `True` is equivalent to adding 1."
      ],
      "text/plain": [
       "Correct: \n",
       "\n",
       "When you add booleans, adding `False` is equivalent to adding 0, and adding `True` is equivalent to adding 1."
      ]
     },
     "metadata": {},
     "output_type": "display_data"
    }
   ],
   "source": [
    "# Check your answer (Run this code cell to receive credit!)\n",
    "q4.check()"
   ]
  },
  {
   "cell_type": "markdown",
   "id": "96efb8fb",
   "metadata": {
    "papermill": {
     "duration": 0.00752,
     "end_time": "2022-12-24T15:39:41.930687",
     "exception": false,
     "start_time": "2022-12-24T15:39:41.923167",
     "status": "completed"
    },
    "tags": []
   },
   "source": [
    "# 🌶️ Question 5\n",
    "\n",
    "You own an online shop where you sell rings with custom engravings.  You offer both gold plated and solid gold rings.\n",
    "- Gold plated rings have a base cost of \\\\$50, and you charge \\\\$7 per engraved unit.  \n",
    "- Solid gold rings have a base cost of \\\\$100, and you charge \\\\$10 per engraved unit.\n",
    "- Spaces and punctuation are counted as engraved units.\n",
    "\n",
    "Write a function `cost_of_project()` that takes two arguments:\n",
    "- `engraving` - a Python string with the text of the engraving\n",
    "- `solid_gold` - a Boolean that indicates whether the ring is solid gold\n",
    "\n",
    "It should return the cost of the project.  This question should be fairly challenging, and you may need a hint."
   ]
  },
  {
   "cell_type": "code",
   "execution_count": 11,
   "id": "e60939f4",
   "metadata": {
    "execution": {
     "iopub.execute_input": "2022-12-24T15:39:41.948749Z",
     "iopub.status.busy": "2022-12-24T15:39:41.948293Z",
     "iopub.status.idle": "2022-12-24T15:39:41.960346Z",
     "shell.execute_reply": "2022-12-24T15:39:41.959098Z"
    },
    "papermill": {
     "duration": 0.024049,
     "end_time": "2022-12-24T15:39:41.962656",
     "exception": false,
     "start_time": "2022-12-24T15:39:41.938607",
     "status": "completed"
    },
    "tags": []
   },
   "outputs": [
    {
     "data": {
      "application/javascript": [
       "parent.postMessage({\"jupyterEvent\": \"custom.exercise_interaction\", \"data\": {\"outcomeType\": 1, \"valueTowardsCompletion\": 0.2, \"interactionType\": 1, \"questionType\": 2, \"questionId\": \"5_CustomEngravings\", \"learnToolsVersion\": \"0.3.4\", \"failureMessage\": \"\", \"exceptionClass\": \"\", \"trace\": \"\"}}, \"*\")"
      ],
      "text/plain": [
       "<IPython.core.display.Javascript object>"
      ]
     },
     "metadata": {},
     "output_type": "display_data"
    },
    {
     "data": {
      "text/markdown": [
       "<span style=\"color:#33cc33\">Correct</span>"
      ],
      "text/plain": [
       "Correct"
      ]
     },
     "metadata": {},
     "output_type": "display_data"
    }
   ],
   "source": [
    "def cost_of_project(engraving, solid_gold):\n",
    "    cost = solid_gold * (100 + 10 * len(engraving)) + (not solid_gold) * (50 + 7 * len(engraving))\n",
    "    \n",
    "    return cost\n",
    "\n",
    "\n",
    "# Check your answer\n",
    "q5.check()"
   ]
  },
  {
   "cell_type": "code",
   "execution_count": 12,
   "id": "ccd43f86",
   "metadata": {
    "execution": {
     "iopub.execute_input": "2022-12-24T15:39:41.980918Z",
     "iopub.status.busy": "2022-12-24T15:39:41.980533Z",
     "iopub.status.idle": "2022-12-24T15:39:41.991218Z",
     "shell.execute_reply": "2022-12-24T15:39:41.990382Z"
    },
    "papermill": {
     "duration": 0.022497,
     "end_time": "2022-12-24T15:39:41.993394",
     "exception": false,
     "start_time": "2022-12-24T15:39:41.970897",
     "status": "completed"
    },
    "tags": []
   },
   "outputs": [
    {
     "data": {
      "application/javascript": [
       "parent.postMessage({\"jupyterEvent\": \"custom.exercise_interaction\", \"data\": {\"interactionType\": 2, \"questionType\": 2, \"questionId\": \"5_CustomEngravings\", \"learnToolsVersion\": \"0.3.4\", \"valueTowardsCompletion\": 0.0, \"failureMessage\": \"\", \"exceptionClass\": \"\", \"trace\": \"\", \"outcomeType\": 4}}, \"*\")"
      ],
      "text/plain": [
       "<IPython.core.display.Javascript object>"
      ]
     },
     "metadata": {},
     "output_type": "display_data"
    },
    {
     "data": {
      "text/markdown": [
       "<span style=\"color:#3366cc\">Hint:</span> There are two options - either the project uses solid gold or does not.  With this in mind, you can structure your solution like this: `cost = solid_gold * ____ + (not_solid_gold) * ____`.  You need to figure out how to fill in the blanks. Also, remember that:\n",
       "- If `solid_gold = True`, then `(not solid_gold) = False`, and if `solid_gold = False`, then `(not solid_gold) = True`.\n",
       "- Multiplying an integer by `True` is equivalent to multiplying it by 1, and multiplying an integer by `False` is equivalent to multiplying it by 0."
      ],
      "text/plain": [
       "Hint: There are two options - either the project uses solid gold or does not.  With this in mind, you can structure your solution like this: `cost = solid_gold * ____ + (not_solid_gold) * ____`.  You need to figure out how to fill in the blanks. Also, remember that:\n",
       "- If `solid_gold = True`, then `(not solid_gold) = False`, and if `solid_gold = False`, then `(not solid_gold) = True`.\n",
       "- Multiplying an integer by `True` is equivalent to multiplying it by 1, and multiplying an integer by `False` is equivalent to multiplying it by 0."
      ]
     },
     "metadata": {},
     "output_type": "display_data"
    },
    {
     "data": {
      "application/javascript": [
       "parent.postMessage({\"jupyterEvent\": \"custom.exercise_interaction\", \"data\": {\"interactionType\": 3, \"questionType\": 2, \"questionId\": \"5_CustomEngravings\", \"learnToolsVersion\": \"0.3.4\", \"valueTowardsCompletion\": 0.0, \"failureMessage\": \"\", \"exceptionClass\": \"\", \"trace\": \"\", \"outcomeType\": 4}}, \"*\")"
      ],
      "text/plain": [
       "<IPython.core.display.Javascript object>"
      ]
     },
     "metadata": {},
     "output_type": "display_data"
    },
    {
     "data": {
      "text/markdown": [
       "<span style=\"color:#33cc99\">Solution:</span> \n",
       "```python\n",
       "def cost_of_project(engraving, solid_gold):\n",
       "    cost = solid_gold * (100 + 10 * len(engraving)) + (not solid_gold) * (50 + 7 * len(engraving))\n",
       "    return cost\n",
       "\n",
       "```"
      ],
      "text/plain": [
       "Solution: \n",
       "```python\n",
       "def cost_of_project(engraving, solid_gold):\n",
       "    cost = solid_gold * (100 + 10 * len(engraving)) + (not solid_gold) * (50 + 7 * len(engraving))\n",
       "    return cost\n",
       "\n",
       "```"
      ]
     },
     "metadata": {},
     "output_type": "display_data"
    }
   ],
   "source": [
    "# Uncomment to see a hint\n",
    "q5.hint()\n",
    "\n",
    "# Uncomment to view the solution\n",
    "q5.solution()"
   ]
  },
  {
   "cell_type": "markdown",
   "id": "0cd196bc",
   "metadata": {
    "papermill": {
     "duration": 0.008652,
     "end_time": "2022-12-24T15:39:42.010952",
     "exception": false,
     "start_time": "2022-12-24T15:39:42.002300",
     "status": "completed"
    },
    "tags": []
   },
   "source": [
    "Run the next code cell to calculate the cost of engraving `Charlie+Denver` on a solid gold ring."
   ]
  },
  {
   "cell_type": "code",
   "execution_count": 13,
   "id": "1d246a95",
   "metadata": {
    "execution": {
     "iopub.execute_input": "2022-12-24T15:39:42.030428Z",
     "iopub.status.busy": "2022-12-24T15:39:42.029677Z",
     "iopub.status.idle": "2022-12-24T15:39:42.035507Z",
     "shell.execute_reply": "2022-12-24T15:39:42.033996Z"
    },
    "papermill": {
     "duration": 0.018513,
     "end_time": "2022-12-24T15:39:42.038090",
     "exception": false,
     "start_time": "2022-12-24T15:39:42.019577",
     "status": "completed"
    },
    "tags": []
   },
   "outputs": [
    {
     "name": "stdout",
     "output_type": "stream",
     "text": [
      "240\n"
     ]
    }
   ],
   "source": [
    "project_one = cost_of_project(\"Charlie+Denver\", True)\n",
    "print(project_one)"
   ]
  },
  {
   "cell_type": "markdown",
   "id": "875150a5",
   "metadata": {
    "papermill": {
     "duration": 0.008631,
     "end_time": "2022-12-24T15:39:42.055780",
     "exception": false,
     "start_time": "2022-12-24T15:39:42.047149",
     "status": "completed"
    },
    "tags": []
   },
   "source": [
    "Use the next code cell to calculate the cost of engraving `08/10/2000` on a gold plated ring."
   ]
  },
  {
   "cell_type": "code",
   "execution_count": 14,
   "id": "1096f9bc",
   "metadata": {
    "execution": {
     "iopub.execute_input": "2022-12-24T15:39:42.075603Z",
     "iopub.status.busy": "2022-12-24T15:39:42.074808Z",
     "iopub.status.idle": "2022-12-24T15:39:42.080586Z",
     "shell.execute_reply": "2022-12-24T15:39:42.079104Z"
    },
    "papermill": {
     "duration": 0.018178,
     "end_time": "2022-12-24T15:39:42.082814",
     "exception": false,
     "start_time": "2022-12-24T15:39:42.064636",
     "status": "completed"
    },
    "tags": []
   },
   "outputs": [
    {
     "name": "stdout",
     "output_type": "stream",
     "text": [
      "120\n"
     ]
    }
   ],
   "source": [
    "project_two = cost_of_project(\"08/10/2000\", False)\n",
    "print(project_two)"
   ]
  },
  {
   "cell_type": "markdown",
   "id": "041549f6",
   "metadata": {
    "papermill": {
     "duration": 0.008643,
     "end_time": "2022-12-24T15:39:42.100360",
     "exception": false,
     "start_time": "2022-12-24T15:39:42.091717",
     "status": "completed"
    },
    "tags": []
   },
   "source": [
    "# Keep going\n",
    "\n",
    "Continue to the next lesson to **[learn about conditions and conditional statements](https://www.kaggle.com/alexisbcook/conditions-and-conditional-statements)**."
   ]
  },
  {
   "cell_type": "markdown",
   "id": "e8269e6b",
   "metadata": {
    "papermill": {
     "duration": 0.008485,
     "end_time": "2022-12-24T15:39:42.117716",
     "exception": false,
     "start_time": "2022-12-24T15:39:42.109231",
     "status": "completed"
    },
    "tags": []
   },
   "source": [
    "---\n",
    "\n",
    "\n",
    "\n",
    "\n",
    "*Have questions or comments? Visit the [course discussion forum](https://www.kaggle.com/learn/intro-to-programming/discussion) to chat with other learners.*"
   ]
  }
 ],
 "metadata": {
  "kernelspec": {
   "display_name": "Python 3",
   "language": "python",
   "name": "python3"
  },
  "language_info": {
   "codemirror_mode": {
    "name": "ipython",
    "version": 3
   },
   "file_extension": ".py",
   "mimetype": "text/x-python",
   "name": "python",
   "nbconvert_exporter": "python",
   "pygments_lexer": "ipython3",
   "version": "3.7.12"
  },
  "papermill": {
   "default_parameters": {},
   "duration": 9.732062,
   "end_time": "2022-12-24T15:39:42.748841",
   "environment_variables": {},
   "exception": null,
   "input_path": "__notebook__.ipynb",
   "output_path": "__notebook__.ipynb",
   "parameters": {},
   "start_time": "2022-12-24T15:39:33.016779",
   "version": "2.3.4"
  }
 },
 "nbformat": 4,
 "nbformat_minor": 5
}
