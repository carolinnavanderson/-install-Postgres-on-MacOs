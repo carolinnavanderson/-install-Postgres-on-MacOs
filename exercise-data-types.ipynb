{
 "cells": [
  {
   "cell_type": "markdown",
   "id": "8811ae88",
   "metadata": {
    "papermill": {
     "duration": 0.012444,
     "end_time": "2022-12-24T15:47:29.048743",
     "exception": false,
     "start_time": "2022-12-24T15:47:29.036299",
     "status": "completed"
    },
    "tags": []
   },
   "source": [
    "**This notebook is an exercise in the [Intro to Programming](https://www.kaggle.com/learn/intro-to-programming) course.  You can reference the tutorial at [this link](https://www.kaggle.com/alexisbcook/data-types).**\n",
    "\n",
    "---\n"
   ]
  },
  {
   "cell_type": "markdown",
   "id": "d4900972",
   "metadata": {
    "papermill": {
     "duration": 0.00655,
     "end_time": "2022-12-24T15:47:29.063266",
     "exception": false,
     "start_time": "2022-12-24T15:47:29.056716",
     "status": "completed"
    },
    "tags": []
   },
   "source": [
    "In the tutorial, you learned about four different data types: floats, integers, strings, and booleans.  In this exercise, you'll experiment with them.\n",
    "\n",
    "# Set up the notebook\n",
    "\n",
    "Run the next code cell without changes to set up the notebook."
   ]
  },
  {
   "cell_type": "code",
   "execution_count": 1,
   "id": "43fbf303",
   "metadata": {
    "execution": {
     "iopub.execute_input": "2022-12-24T15:47:29.079514Z",
     "iopub.status.busy": "2022-12-24T15:47:29.078699Z",
     "iopub.status.idle": "2022-12-24T15:47:29.142127Z",
     "shell.execute_reply": "2022-12-24T15:47:29.141131Z"
    },
    "papermill": {
     "duration": 0.076224,
     "end_time": "2022-12-24T15:47:29.146295",
     "exception": false,
     "start_time": "2022-12-24T15:47:29.070071",
     "status": "completed"
    },
    "tags": []
   },
   "outputs": [
    {
     "name": "stdout",
     "output_type": "stream",
     "text": [
      "Setup complete.\n"
     ]
    }
   ],
   "source": [
    " #Set up the exercise\n",
    "from learntools.core import binder\n",
    "binder.bind(globals())\n",
    "from learntools.intro_to_programming.ex3 import *\n",
    "print('Setup complete.')"
   ]
  },
  {
   "cell_type": "markdown",
   "id": "251a2087",
   "metadata": {
    "papermill": {
     "duration": 0.006512,
     "end_time": "2022-12-24T15:47:29.160118",
     "exception": false,
     "start_time": "2022-12-24T15:47:29.153606",
     "status": "completed"
    },
    "tags": []
   },
   "source": [
    "# Question 1\n",
    "\n",
    "You have seen how to convert a float to an integer with the `int` function.  Try this out yourself by running the code cell below."
   ]
  },
  {
   "cell_type": "code",
   "execution_count": 2,
   "id": "41246b68",
   "metadata": {
    "execution": {
     "iopub.execute_input": "2022-12-24T15:47:29.176890Z",
     "iopub.status.busy": "2022-12-24T15:47:29.175829Z",
     "iopub.status.idle": "2022-12-24T15:47:29.183132Z",
     "shell.execute_reply": "2022-12-24T15:47:29.181576Z"
    },
    "papermill": {
     "duration": 0.018668,
     "end_time": "2022-12-24T15:47:29.185657",
     "exception": false,
     "start_time": "2022-12-24T15:47:29.166989",
     "status": "completed"
    },
    "tags": []
   },
   "outputs": [
    {
     "name": "stdout",
     "output_type": "stream",
     "text": [
      "1.987\n",
      "<class 'float'>\n",
      "1\n",
      "<class 'int'>\n"
     ]
    }
   ],
   "source": [
    "# Define a float\n",
    "y = 1.987\n",
    "print(y)\n",
    "print(type(y))\n",
    "\n",
    "# Convert float to integer with the int function\n",
    "z = int(y)\n",
    "print(z)\n",
    "print(type(z))"
   ]
  },
  {
   "cell_type": "markdown",
   "id": "1873041a",
   "metadata": {
    "papermill": {
     "duration": 0.006632,
     "end_time": "2022-12-24T15:47:29.199355",
     "exception": false,
     "start_time": "2022-12-24T15:47:29.192723",
     "status": "completed"
    },
    "tags": []
   },
   "source": [
    "In this case, the float you are using has no numbers after the decimal.  \n",
    "- But what happens when you try to convert a float with a fractional part to an integer?  \n",
    "- How does the outcome of the `int` function change for positive and negative numbers?\n",
    "\n",
    "Use the next code cell to investigate and answer these questions.  Feel free to add or remove any lines of code -- it is your workspace!"
   ]
  },
  {
   "cell_type": "code",
   "execution_count": 3,
   "id": "641dfbe1",
   "metadata": {
    "execution": {
     "iopub.execute_input": "2022-12-24T15:47:29.215383Z",
     "iopub.status.busy": "2022-12-24T15:47:29.214969Z",
     "iopub.status.idle": "2022-12-24T15:47:29.220979Z",
     "shell.execute_reply": "2022-12-24T15:47:29.219865Z"
    },
    "papermill": {
     "duration": 0.016966,
     "end_time": "2022-12-24T15:47:29.223534",
     "exception": false,
     "start_time": "2022-12-24T15:47:29.206568",
     "status": "completed"
    },
    "tags": []
   },
   "outputs": [
    {
     "name": "stdout",
     "output_type": "stream",
     "text": [
      "1\n",
      "1\n",
      "-3\n",
      "-2\n"
     ]
    }
   ],
   "source": [
    "# Uncomment and run this code to get started!\n",
    "print(int(1.2321))\n",
    "print(int(1.747))\n",
    "print(int(-3.94535))\n",
    "print(int(-2.19774))"
   ]
  },
  {
   "cell_type": "markdown",
   "id": "ead62f51",
   "metadata": {
    "papermill": {
     "duration": 0.009018,
     "end_time": "2022-12-24T15:47:29.239309",
     "exception": false,
     "start_time": "2022-12-24T15:47:29.230291",
     "status": "completed"
    },
    "tags": []
   },
   "source": [
    "Once you have an answer, run the code cell below to see the solution.  Viewing the solution will give you credit for answering the problem."
   ]
  },
  {
   "cell_type": "code",
   "execution_count": 4,
   "id": "e634121f",
   "metadata": {
    "execution": {
     "iopub.execute_input": "2022-12-24T15:47:29.255238Z",
     "iopub.status.busy": "2022-12-24T15:47:29.254546Z",
     "iopub.status.idle": "2022-12-24T15:47:29.261292Z",
     "shell.execute_reply": "2022-12-24T15:47:29.259598Z"
    },
    "papermill": {
     "duration": 0.017572,
     "end_time": "2022-12-24T15:47:29.263836",
     "exception": false,
     "start_time": "2022-12-24T15:47:29.246264",
     "status": "completed"
    },
    "tags": []
   },
   "outputs": [
    {
     "name": "stdout",
     "output_type": "stream",
     "text": [
      "1.923134345\n",
      "<class 'float'>\n",
      "1\n",
      "<class 'int'>\n"
     ]
    }
   ],
   "source": [
    "# Check your answer (Run this code cell to receive credit!)\n",
    "# Define a float\n",
    "y = 1.923134345\n",
    "print(y)\n",
    "print(type(y))\n",
    "\n",
    "# Convert float to integer with the int function\n",
    "z = int(y)\n",
    "print(z)\n",
    "print(type(z))\n"
   ]
  },
  {
   "cell_type": "markdown",
   "id": "6e7e6792",
   "metadata": {
    "papermill": {
     "duration": 0.006677,
     "end_time": "2022-12-24T15:47:29.277806",
     "exception": false,
     "start_time": "2022-12-24T15:47:29.271129",
     "status": "completed"
    },
    "tags": []
   },
   "source": [
    "# Question 2\n",
    "\n",
    "In the tutorial, you learned about booleans (which can take a value of `True` or `False`), in addition to integers, floats, and strings.  For this question, your goal is to determine what happens when you multiply a boolean by any of these data types.  Specifically, \n",
    "- What happens when you multiply an integer or float by `True`?  What happens when you multiply them by `False`?  How does the answer change if the numbers are positive or negative?\n",
    "- What happens when you multiply a string by `True`?  By `False`?\n",
    "\n",
    "Use the next code cell for your investigation. "
   ]
  },
  {
   "cell_type": "code",
   "execution_count": 5,
   "id": "fa70e312",
   "metadata": {
    "execution": {
     "iopub.execute_input": "2022-12-24T15:47:29.294185Z",
     "iopub.status.busy": "2022-12-24T15:47:29.293734Z",
     "iopub.status.idle": "2022-12-24T15:47:29.300454Z",
     "shell.execute_reply": "2022-12-24T15:47:29.299174Z"
    },
    "papermill": {
     "duration": 0.019852,
     "end_time": "2022-12-24T15:47:29.304669",
     "exception": false,
     "start_time": "2022-12-24T15:47:29.284817",
     "status": "completed"
    },
    "tags": []
   },
   "outputs": [
    {
     "name": "stdout",
     "output_type": "stream",
     "text": [
      "3\n",
      "-3.1\n",
      "<class 'str'>\n",
      "0\n"
     ]
    }
   ],
   "source": [
    "# Uncomment and run this code to get started!\n",
    "print(3 * True)\n",
    "print(-3.1 * True)\n",
    "print(type(\"abc\" * False))\n",
    "print(len(\"abc\" * False))"
   ]
  },
  {
   "cell_type": "markdown",
   "id": "81a5dc7a",
   "metadata": {
    "papermill": {
     "duration": 0.006525,
     "end_time": "2022-12-24T15:47:29.319342",
     "exception": false,
     "start_time": "2022-12-24T15:47:29.312817",
     "status": "completed"
    },
    "tags": []
   },
   "source": [
    "Once you have an answer, run the code cell below to see the solution.  Viewing the solution will give you credit for answering the problem."
   ]
  },
  {
   "cell_type": "code",
   "execution_count": 6,
   "id": "a4e00b6a",
   "metadata": {
    "execution": {
     "iopub.execute_input": "2022-12-24T15:47:29.335630Z",
     "iopub.status.busy": "2022-12-24T15:47:29.334721Z",
     "iopub.status.idle": "2022-12-24T15:47:29.345733Z",
     "shell.execute_reply": "2022-12-24T15:47:29.344470Z"
    },
    "papermill": {
     "duration": 0.021968,
     "end_time": "2022-12-24T15:47:29.348000",
     "exception": false,
     "start_time": "2022-12-24T15:47:29.326032",
     "status": "completed"
    },
    "tags": []
   },
   "outputs": [
    {
     "data": {
      "application/javascript": [
       "parent.postMessage({\"jupyterEvent\": \"custom.exercise_interaction\", \"data\": {\"outcomeType\": 1, \"valueTowardsCompletion\": 0.2, \"interactionType\": 1, \"questionType\": 4, \"questionId\": \"2_MultiplyBooleans\", \"learnToolsVersion\": \"0.3.4\", \"failureMessage\": \"\", \"exceptionClass\": \"\", \"trace\": \"\"}}, \"*\")"
      ],
      "text/plain": [
       "<IPython.core.display.Javascript object>"
      ]
     },
     "metadata": {},
     "output_type": "display_data"
    },
    {
     "data": {
      "text/markdown": [
       "<span style=\"color:#33cc33\">Correct:</span> \n",
       "\n",
       "When you multiple an integer or float by a boolean with value `True`, it just returns that same integer or float (and is equivalent to multiplying by 1).  If you multiply an integer or float by a boolean with value `False`, it always returns 0.  This is true for both positive and negative numbers.  If you multiply a string by a boolean with value `True`, it just returns that same string.  And if you multiply a string by a boolean with value `False`, it returns an empty string (or a string with length zero)."
      ],
      "text/plain": [
       "Correct: \n",
       "\n",
       "When you multiple an integer or float by a boolean with value `True`, it just returns that same integer or float (and is equivalent to multiplying by 1).  If you multiply an integer or float by a boolean with value `False`, it always returns 0.  This is true for both positive and negative numbers.  If you multiply a string by a boolean with value `True`, it just returns that same string.  And if you multiply a string by a boolean with value `False`, it returns an empty string (or a string with length zero)."
      ]
     },
     "metadata": {},
     "output_type": "display_data"
    }
   ],
   "source": [
    "# Check your answer (Run this code cell to receive credit!)\n",
    "q2.check()"
   ]
  },
  {
   "cell_type": "markdown",
   "id": "a587ae96",
   "metadata": {
    "papermill": {
     "duration": 0.007159,
     "end_time": "2022-12-24T15:47:29.362377",
     "exception": false,
     "start_time": "2022-12-24T15:47:29.355218",
     "status": "completed"
    },
    "tags": []
   },
   "source": [
    "# Question 3\n",
    "\n",
    "In this question, you will build off your work from the previous exercise to write a function that estimates the value of a house.\n",
    "\n",
    "Use the next code cell to create a function `get_expected_cost` that takes as input three variables:\n",
    "- `beds` - number of bedrooms (data type float)\n",
    "- `baths` - number of bathrooms (data type float)\n",
    "- `has_basement` - whether or not the house has a basement (data type boolean)\n",
    "\n",
    "It should return the expected cost of a house with those characteristics. Assume that:\n",
    "- the expected cost for a house with 0 bedrooms and 0 bathrooms, and no basement is 80000, \n",
    "- each bedroom adds 30000 to the expected cost,\n",
    "- each bathroom adds 10000 to the expected cost, and\n",
    "- a basement adds 40000 to the expected cost.\n",
    "\n",
    "For instance,\n",
    "- a house with 1 bedroom, 1 bathroom, and no basement has an expected cost of 80000 + 30000 + 10000 = 120000.  This value will be calculated with `get_expected_cost(1, 1, False)`.\n",
    "- a house with 2 bedrooms, 1 bathroom, and a basement has an expected cost of 80000 + 2*30000 + 10000 + 40000 = 190000.  This value will be calculated with `get_expected_cost(2, 1, True)`.\n",
    "\n",
    "Remember you can always get a hint by uncommenting `q3.hint()` in the code cell following the next!"
   ]
  },
  {
   "cell_type": "code",
   "execution_count": 7,
   "id": "accb4eeb",
   "metadata": {
    "execution": {
     "iopub.execute_input": "2022-12-24T15:47:29.378644Z",
     "iopub.status.busy": "2022-12-24T15:47:29.378163Z",
     "iopub.status.idle": "2022-12-24T15:47:29.389507Z",
     "shell.execute_reply": "2022-12-24T15:47:29.388258Z"
    },
    "papermill": {
     "duration": 0.022407,
     "end_time": "2022-12-24T15:47:29.391836",
     "exception": false,
     "start_time": "2022-12-24T15:47:29.369429",
     "status": "completed"
    },
    "tags": []
   },
   "outputs": [
    {
     "data": {
      "application/javascript": [
       "parent.postMessage({\"jupyterEvent\": \"custom.exercise_interaction\", \"data\": {\"outcomeType\": 1, \"valueTowardsCompletion\": 0.2, \"interactionType\": 1, \"questionType\": 2, \"questionId\": \"3_EstimateHouseValueBool\", \"learnToolsVersion\": \"0.3.4\", \"failureMessage\": \"\", \"exceptionClass\": \"\", \"trace\": \"\"}}, \"*\")"
      ],
      "text/plain": [
       "<IPython.core.display.Javascript object>"
      ]
     },
     "metadata": {},
     "output_type": "display_data"
    },
    {
     "data": {
      "text/markdown": [
       "<span style=\"color:#33cc33\">Correct</span>"
      ],
      "text/plain": [
       "Correct"
      ]
     },
     "metadata": {},
     "output_type": "display_data"
    }
   ],
   "source": [
    "# TODO: Complete the function\n",
    "def get_expected_cost(beds, baths, has_basement):\n",
    "    value = 80000 + 30000 * beds + 10000 * baths + 40000 * has_basement\n",
    "    return value\n",
    "\n",
    "\n",
    "# Check your answer \n",
    "q3.check()"
   ]
  },
  {
   "cell_type": "code",
   "execution_count": 8,
   "id": "bbbcb024",
   "metadata": {
    "execution": {
     "iopub.execute_input": "2022-12-24T15:47:29.410691Z",
     "iopub.status.busy": "2022-12-24T15:47:29.409687Z",
     "iopub.status.idle": "2022-12-24T15:47:29.431541Z",
     "shell.execute_reply": "2022-12-24T15:47:29.429832Z"
    },
    "papermill": {
     "duration": 0.035768,
     "end_time": "2022-12-24T15:47:29.435502",
     "exception": false,
     "start_time": "2022-12-24T15:47:29.399734",
     "status": "completed"
    },
    "tags": []
   },
   "outputs": [
    {
     "data": {
      "application/javascript": [
       "parent.postMessage({\"jupyterEvent\": \"custom.exercise_interaction\", \"data\": {\"interactionType\": 2, \"questionType\": 2, \"questionId\": \"3_EstimateHouseValueBool\", \"learnToolsVersion\": \"0.3.4\", \"valueTowardsCompletion\": 0.0, \"failureMessage\": \"\", \"exceptionClass\": \"\", \"trace\": \"\", \"outcomeType\": 4}}, \"*\")"
      ],
      "text/plain": [
       "<IPython.core.display.Javascript object>"
      ]
     },
     "metadata": {},
     "output_type": "display_data"
    },
    {
     "data": {
      "text/markdown": [
       "<span style=\"color:#3366cc\">Hint:</span> The variable `has_basement` is either `True` or `False`.  What happens when you multiply it by 40000 (the value of a basement)?  Refer to the previous question if you are unsure."
      ],
      "text/plain": [
       "Hint: The variable `has_basement` is either `True` or `False`.  What happens when you multiply it by 40000 (the value of a basement)?  Refer to the previous question if you are unsure."
      ]
     },
     "metadata": {},
     "output_type": "display_data"
    },
    {
     "data": {
      "application/javascript": [
       "parent.postMessage({\"jupyterEvent\": \"custom.exercise_interaction\", \"data\": {\"interactionType\": 3, \"questionType\": 2, \"questionId\": \"3_EstimateHouseValueBool\", \"learnToolsVersion\": \"0.3.4\", \"valueTowardsCompletion\": 0.0, \"failureMessage\": \"\", \"exceptionClass\": \"\", \"trace\": \"\", \"outcomeType\": 4}}, \"*\")"
      ],
      "text/plain": [
       "<IPython.core.display.Javascript object>"
      ]
     },
     "metadata": {},
     "output_type": "display_data"
    },
    {
     "data": {
      "text/markdown": [
       "<span style=\"color:#33cc99\">Solution:</span> \n",
       "```python\n",
       "def get_expected_cost(beds, baths, has_basement):\n",
       "    value = 80000 + 30000 * beds + 10000 * baths + 40000 * has_basement\n",
       "    return value\n",
       "\n",
       "```"
      ],
      "text/plain": [
       "Solution: \n",
       "```python\n",
       "def get_expected_cost(beds, baths, has_basement):\n",
       "    value = 80000 + 30000 * beds + 10000 * baths + 40000 * has_basement\n",
       "    return value\n",
       "\n",
       "```"
      ]
     },
     "metadata": {},
     "output_type": "display_data"
    }
   ],
   "source": [
    "# Uncomment to see a hint\n",
    "q3.hint()\n",
    "\n",
    "# Uncomment to view the solution\n",
    "q3.solution()"
   ]
  },
  {
   "cell_type": "markdown",
   "id": "cd7583aa",
   "metadata": {
    "papermill": {
     "duration": 0.008163,
     "end_time": "2022-12-24T15:47:29.452728",
     "exception": false,
     "start_time": "2022-12-24T15:47:29.444565",
     "status": "completed"
    },
    "tags": []
   },
   "source": [
    "# Question 4\n",
    "\n",
    "We'll continue our study of boolean arithmetic.  For this question, your task is to provide a description of what happpens when you add booleans. \n",
    "\n",
    "Use the next code cell for your investigation.  Feel free to add or remove any lines of code - use it as your workspace!"
   ]
  },
  {
   "cell_type": "code",
   "execution_count": 9,
   "id": "ebfc197a",
   "metadata": {
    "execution": {
     "iopub.execute_input": "2022-12-24T15:47:29.473898Z",
     "iopub.status.busy": "2022-12-24T15:47:29.473406Z",
     "iopub.status.idle": "2022-12-24T15:47:29.482437Z",
     "shell.execute_reply": "2022-12-24T15:47:29.480165Z"
    },
    "papermill": {
     "duration": 0.024923,
     "end_time": "2022-12-24T15:47:29.485527",
     "exception": false,
     "start_time": "2022-12-24T15:47:29.460604",
     "status": "completed"
    },
    "tags": []
   },
   "outputs": [
    {
     "name": "stdout",
     "output_type": "stream",
     "text": [
      "0\n",
      "1\n",
      "1\n",
      "1\n",
      "2\n",
      "1\n",
      "1\n",
      "4\n"
     ]
    }
   ],
   "source": [
    "print(False + False)\n",
    "print(True + False)\n",
    "print (False + True)\n",
    "print(True + False)\n",
    "print(True + True + False)\n",
    "print(True + False + False)\n",
    "print(False + True + False)\n",
    "print(True + True + False + True + True + False)\n",
    "\n",
    "\n",
    "\n",
    "\n"
   ]
  },
  {
   "cell_type": "markdown",
   "id": "9612df5b",
   "metadata": {
    "papermill": {
     "duration": 0.007623,
     "end_time": "2022-12-24T15:47:29.502298",
     "exception": false,
     "start_time": "2022-12-24T15:47:29.494675",
     "status": "completed"
    },
    "tags": []
   },
   "source": [
    "Once you have an answer, run the code cell below to see the solution.  Viewing the solution will give you credit for answering the problem."
   ]
  },
  {
   "cell_type": "code",
   "execution_count": 10,
   "id": "21e4fdc0",
   "metadata": {
    "execution": {
     "iopub.execute_input": "2022-12-24T15:47:29.520328Z",
     "iopub.status.busy": "2022-12-24T15:47:29.519834Z",
     "iopub.status.idle": "2022-12-24T15:47:29.531067Z",
     "shell.execute_reply": "2022-12-24T15:47:29.529686Z"
    },
    "papermill": {
     "duration": 0.023902,
     "end_time": "2022-12-24T15:47:29.533887",
     "exception": false,
     "start_time": "2022-12-24T15:47:29.509985",
     "status": "completed"
    },
    "tags": []
   },
   "outputs": [
    {
     "data": {
      "application/javascript": [
       "parent.postMessage({\"jupyterEvent\": \"custom.exercise_interaction\", \"data\": {\"outcomeType\": 1, \"valueTowardsCompletion\": 0.2, \"interactionType\": 1, \"questionType\": 4, \"questionId\": \"4_AddingBooleans\", \"learnToolsVersion\": \"0.3.4\", \"failureMessage\": \"\", \"exceptionClass\": \"\", \"trace\": \"\"}}, \"*\")"
      ],
      "text/plain": [
       "<IPython.core.display.Javascript object>"
      ]
     },
     "metadata": {},
     "output_type": "display_data"
    },
    {
     "data": {
      "text/markdown": [
       "<span style=\"color:#33cc33\">Correct:</span> \n",
       "\n",
       "When you add booleans, adding `False` is equivalent to adding 0, and adding `True` is equivalent to adding 1."
      ],
      "text/plain": [
       "Correct: \n",
       "\n",
       "When you add booleans, adding `False` is equivalent to adding 0, and adding `True` is equivalent to adding 1."
      ]
     },
     "metadata": {},
     "output_type": "display_data"
    }
   ],
   "source": [
    "# Check your answer (Run this code cell to receive credit!)\n",
    "q4.check()"
   ]
  },
  {
   "cell_type": "markdown",
   "id": "a0c94578",
   "metadata": {
    "papermill": {
     "duration": 0.007967,
     "end_time": "2022-12-24T15:47:29.550776",
     "exception": false,
     "start_time": "2022-12-24T15:47:29.542809",
     "status": "completed"
    },
    "tags": []
   },
   "source": [
    "# 🌶️ Question 5\n",
    "\n",
    "You own an online shop where you sell rings with custom engravings.  You offer both gold plated and solid gold rings.\n",
    "- Gold plated rings have a base cost of \\\\$50, and you charge \\\\$7 per engraved unit.  \n",
    "- Solid gold rings have a base cost of \\\\$100, and you charge \\\\$10 per engraved unit.\n",
    "- Spaces and punctuation are counted as engraved units.\n",
    "\n",
    "Write a function `cost_of_project()` that takes two arguments:\n",
    "- `engraving` - a Python string with the text of the engraving\n",
    "- `solid_gold` - a Boolean that indicates whether the ring is solid gold\n",
    "\n",
    "It should return the cost of the project.  This question should be fairly challenging, and you may need a hint."
   ]
  },
  {
   "cell_type": "code",
   "execution_count": 11,
   "id": "f86ea191",
   "metadata": {
    "execution": {
     "iopub.execute_input": "2022-12-24T15:47:29.569639Z",
     "iopub.status.busy": "2022-12-24T15:47:29.569208Z",
     "iopub.status.idle": "2022-12-24T15:47:29.579185Z",
     "shell.execute_reply": "2022-12-24T15:47:29.578251Z"
    },
    "papermill": {
     "duration": 0.022459,
     "end_time": "2022-12-24T15:47:29.581529",
     "exception": false,
     "start_time": "2022-12-24T15:47:29.559070",
     "status": "completed"
    },
    "tags": []
   },
   "outputs": [
    {
     "data": {
      "application/javascript": [
       "parent.postMessage({\"jupyterEvent\": \"custom.exercise_interaction\", \"data\": {\"outcomeType\": 1, \"valueTowardsCompletion\": 0.2, \"interactionType\": 1, \"questionType\": 2, \"questionId\": \"5_CustomEngravings\", \"learnToolsVersion\": \"0.3.4\", \"failureMessage\": \"\", \"exceptionClass\": \"\", \"trace\": \"\"}}, \"*\")"
      ],
      "text/plain": [
       "<IPython.core.display.Javascript object>"
      ]
     },
     "metadata": {},
     "output_type": "display_data"
    },
    {
     "data": {
      "text/markdown": [
       "<span style=\"color:#33cc33\">Correct</span>"
      ],
      "text/plain": [
       "Correct"
      ]
     },
     "metadata": {},
     "output_type": "display_data"
    }
   ],
   "source": [
    "def cost_of_project(engraving, solid_gold):\n",
    "    cost = solid_gold * (100 + 10 * len(engraving)) + (not solid_gold) * (50 + 7 * len(engraving))\n",
    "    \n",
    "    return cost\n",
    "\n",
    "\n",
    "# Check your answer\n",
    "q5.check()"
   ]
  },
  {
   "cell_type": "code",
   "execution_count": 12,
   "id": "1f025b37",
   "metadata": {
    "execution": {
     "iopub.execute_input": "2022-12-24T15:47:29.600525Z",
     "iopub.status.busy": "2022-12-24T15:47:29.600103Z",
     "iopub.status.idle": "2022-12-24T15:47:29.613033Z",
     "shell.execute_reply": "2022-12-24T15:47:29.611909Z"
    },
    "papermill": {
     "duration": 0.025478,
     "end_time": "2022-12-24T15:47:29.615545",
     "exception": false,
     "start_time": "2022-12-24T15:47:29.590067",
     "status": "completed"
    },
    "tags": []
   },
   "outputs": [
    {
     "data": {
      "application/javascript": [
       "parent.postMessage({\"jupyterEvent\": \"custom.exercise_interaction\", \"data\": {\"interactionType\": 2, \"questionType\": 2, \"questionId\": \"5_CustomEngravings\", \"learnToolsVersion\": \"0.3.4\", \"valueTowardsCompletion\": 0.0, \"failureMessage\": \"\", \"exceptionClass\": \"\", \"trace\": \"\", \"outcomeType\": 4}}, \"*\")"
      ],
      "text/plain": [
       "<IPython.core.display.Javascript object>"
      ]
     },
     "metadata": {},
     "output_type": "display_data"
    },
    {
     "data": {
      "text/markdown": [
       "<span style=\"color:#3366cc\">Hint:</span> There are two options - either the project uses solid gold or does not.  With this in mind, you can structure your solution like this: `cost = solid_gold * ____ + (not_solid_gold) * ____`.  You need to figure out how to fill in the blanks. Also, remember that:\n",
       "- If `solid_gold = True`, then `(not solid_gold) = False`, and if `solid_gold = False`, then `(not solid_gold) = True`.\n",
       "- Multiplying an integer by `True` is equivalent to multiplying it by 1, and multiplying an integer by `False` is equivalent to multiplying it by 0."
      ],
      "text/plain": [
       "Hint: There are two options - either the project uses solid gold or does not.  With this in mind, you can structure your solution like this: `cost = solid_gold * ____ + (not_solid_gold) * ____`.  You need to figure out how to fill in the blanks. Also, remember that:\n",
       "- If `solid_gold = True`, then `(not solid_gold) = False`, and if `solid_gold = False`, then `(not solid_gold) = True`.\n",
       "- Multiplying an integer by `True` is equivalent to multiplying it by 1, and multiplying an integer by `False` is equivalent to multiplying it by 0."
      ]
     },
     "metadata": {},
     "output_type": "display_data"
    },
    {
     "data": {
      "application/javascript": [
       "parent.postMessage({\"jupyterEvent\": \"custom.exercise_interaction\", \"data\": {\"interactionType\": 3, \"questionType\": 2, \"questionId\": \"5_CustomEngravings\", \"learnToolsVersion\": \"0.3.4\", \"valueTowardsCompletion\": 0.0, \"failureMessage\": \"\", \"exceptionClass\": \"\", \"trace\": \"\", \"outcomeType\": 4}}, \"*\")"
      ],
      "text/plain": [
       "<IPython.core.display.Javascript object>"
      ]
     },
     "metadata": {},
     "output_type": "display_data"
    },
    {
     "data": {
      "text/markdown": [
       "<span style=\"color:#33cc99\">Solution:</span> \n",
       "```python\n",
       "def cost_of_project(engraving, solid_gold):\n",
       "    cost = solid_gold * (100 + 10 * len(engraving)) + (not solid_gold) * (50 + 7 * len(engraving))\n",
       "    return cost\n",
       "\n",
       "```"
      ],
      "text/plain": [
       "Solution: \n",
       "```python\n",
       "def cost_of_project(engraving, solid_gold):\n",
       "    cost = solid_gold * (100 + 10 * len(engraving)) + (not solid_gold) * (50 + 7 * len(engraving))\n",
       "    return cost\n",
       "\n",
       "```"
      ]
     },
     "metadata": {},
     "output_type": "display_data"
    }
   ],
   "source": [
    "# Uncomment to see a hint\n",
    "q5.hint()\n",
    "\n",
    "# Uncomment to view the solution\n",
    "q5.solution()"
   ]
  },
  {
   "cell_type": "markdown",
   "id": "5fcfe7aa",
   "metadata": {
    "papermill": {
     "duration": 0.008712,
     "end_time": "2022-12-24T15:47:29.633713",
     "exception": false,
     "start_time": "2022-12-24T15:47:29.625001",
     "status": "completed"
    },
    "tags": []
   },
   "source": [
    "Run the next code cell to calculate the cost of engraving `Charlie+Denver` on a solid gold ring."
   ]
  },
  {
   "cell_type": "code",
   "execution_count": 13,
   "id": "ad5b3f4b",
   "metadata": {
    "execution": {
     "iopub.execute_input": "2022-12-24T15:47:29.654040Z",
     "iopub.status.busy": "2022-12-24T15:47:29.653576Z",
     "iopub.status.idle": "2022-12-24T15:47:29.660469Z",
     "shell.execute_reply": "2022-12-24T15:47:29.658877Z"
    },
    "papermill": {
     "duration": 0.020954,
     "end_time": "2022-12-24T15:47:29.663724",
     "exception": false,
     "start_time": "2022-12-24T15:47:29.642770",
     "status": "completed"
    },
    "tags": []
   },
   "outputs": [
    {
     "name": "stdout",
     "output_type": "stream",
     "text": [
      "240\n"
     ]
    }
   ],
   "source": [
    "project_one = cost_of_project(\"Charlie+Denver\", True)\n",
    "print(project_one)"
   ]
  },
  {
   "cell_type": "markdown",
   "id": "fdb0e2f3",
   "metadata": {
    "papermill": {
     "duration": 0.008964,
     "end_time": "2022-12-24T15:47:29.681841",
     "exception": false,
     "start_time": "2022-12-24T15:47:29.672877",
     "status": "completed"
    },
    "tags": []
   },
   "source": [
    "Use the next code cell to calculate the cost of engraving `08/10/2000` on a gold plated ring."
   ]
  },
  {
   "cell_type": "code",
   "execution_count": 14,
   "id": "27269f91",
   "metadata": {
    "execution": {
     "iopub.execute_input": "2022-12-24T15:47:29.702742Z",
     "iopub.status.busy": "2022-12-24T15:47:29.702249Z",
     "iopub.status.idle": "2022-12-24T15:47:29.709696Z",
     "shell.execute_reply": "2022-12-24T15:47:29.708094Z"
    },
    "papermill": {
     "duration": 0.021915,
     "end_time": "2022-12-24T15:47:29.713355",
     "exception": false,
     "start_time": "2022-12-24T15:47:29.691440",
     "status": "completed"
    },
    "tags": []
   },
   "outputs": [
    {
     "name": "stdout",
     "output_type": "stream",
     "text": [
      "120\n"
     ]
    }
   ],
   "source": [
    "project_two = cost_of_project(\"08/10/2000\", False)\n",
    "print(project_two)"
   ]
  },
  {
   "cell_type": "markdown",
   "id": "55c02e24",
   "metadata": {
    "papermill": {
     "duration": 0.009262,
     "end_time": "2022-12-24T15:47:29.732919",
     "exception": false,
     "start_time": "2022-12-24T15:47:29.723657",
     "status": "completed"
    },
    "tags": []
   },
   "source": [
    "# Keep going\n",
    "\n",
    "Continue to the next lesson to **[learn about conditions and conditional statements](https://www.kaggle.com/alexisbcook/conditions-and-conditional-statements)**."
   ]
  },
  {
   "cell_type": "markdown",
   "id": "66fb0054",
   "metadata": {
    "papermill": {
     "duration": 0.009038,
     "end_time": "2022-12-24T15:47:29.751301",
     "exception": false,
     "start_time": "2022-12-24T15:47:29.742263",
     "status": "completed"
    },
    "tags": []
   },
   "source": [
    "---\n",
    "\n",
    "\n",
    "\n",
    "\n",
    "*Have questions or comments? Visit the [course discussion forum](https://www.kaggle.com/learn/intro-to-programming/discussion) to chat with other learners.*"
   ]
  }
 ],
 "metadata": {
  "kernelspec": {
   "display_name": "Python 3",
   "language": "python",
   "name": "python3"
  },
  "language_info": {
   "codemirror_mode": {
    "name": "ipython",
    "version": 3
   },
   "file_extension": ".py",
   "mimetype": "text/x-python",
   "name": "python",
   "nbconvert_exporter": "python",
   "pygments_lexer": "ipython3",
   "version": "3.7.12"
  },
  "papermill": {
   "default_parameters": {},
   "duration": 11.307084,
   "end_time": "2022-12-24T15:47:30.686472",
   "environment_variables": {},
   "exception": null,
   "input_path": "__notebook__.ipynb",
   "output_path": "__notebook__.ipynb",
   "parameters": {},
   "start_time": "2022-12-24T15:47:19.379388",
   "version": "2.3.4"
  }
 },
 "nbformat": 4,
 "nbformat_minor": 5
}
