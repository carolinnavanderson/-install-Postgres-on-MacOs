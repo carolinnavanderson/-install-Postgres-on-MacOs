{
 "cells": [
  {
   "cell_type": "markdown",
   "id": "05696b6e",
   "metadata": {
    "papermill": {
     "duration": 0.007617,
     "end_time": "2022-12-24T15:50:25.519912",
     "exception": false,
     "start_time": "2022-12-24T15:50:25.512295",
     "status": "completed"
    },
    "tags": []
   },
   "source": [
    "**This notebook is an exercise in the [Intro to Programming](https://www.kaggle.com/learn/intro-to-programming) course.  You can reference the tutorial at [this link](https://www.kaggle.com/alexisbcook/data-types).**\n",
    "\n",
    "---\n"
   ]
  },
  {
   "cell_type": "markdown",
   "id": "46bc0301",
   "metadata": {
    "papermill": {
     "duration": 0.006276,
     "end_time": "2022-12-24T15:50:25.533156",
     "exception": false,
     "start_time": "2022-12-24T15:50:25.526880",
     "status": "completed"
    },
    "tags": []
   },
   "source": [
    "In the tutorial, you learned about four different data types: floats, integers, strings, and booleans.  In this exercise, you'll experiment with them.\n",
    "\n",
    "# Set up the notebook\n",
    "\n",
    "Run the next code cell without changes to set up the notebook."
   ]
  },
  {
   "cell_type": "code",
   "execution_count": 1,
   "id": "a3b0f6d0",
   "metadata": {
    "execution": {
     "iopub.execute_input": "2022-12-24T15:50:25.549877Z",
     "iopub.status.busy": "2022-12-24T15:50:25.548975Z",
     "iopub.status.idle": "2022-12-24T15:50:25.606900Z",
     "shell.execute_reply": "2022-12-24T15:50:25.605733Z"
    },
    "papermill": {
     "duration": 0.069889,
     "end_time": "2022-12-24T15:50:25.609794",
     "exception": false,
     "start_time": "2022-12-24T15:50:25.539905",
     "status": "completed"
    },
    "tags": []
   },
   "outputs": [
    {
     "name": "stdout",
     "output_type": "stream",
     "text": [
      "Setup complete.\n"
     ]
    }
   ],
   "source": [
    " #Set up the exercise\n",
    "from learntools.core import binder\n",
    "binder.bind(globals())\n",
    "from learntools.intro_to_programming.ex3 import *\n",
    "print('Setup complete.')"
   ]
  },
  {
   "cell_type": "markdown",
   "id": "c0e38e24",
   "metadata": {
    "papermill": {
     "duration": 0.006179,
     "end_time": "2022-12-24T15:50:25.622670",
     "exception": false,
     "start_time": "2022-12-24T15:50:25.616491",
     "status": "completed"
    },
    "tags": []
   },
   "source": [
    "# Question 1\n",
    "\n",
    "You have seen how to convert a float to an integer with the `int` function.  Try this out yourself by running the code cell below."
   ]
  },
  {
   "cell_type": "code",
   "execution_count": 2,
   "id": "c6543cf9",
   "metadata": {
    "execution": {
     "iopub.execute_input": "2022-12-24T15:50:25.637374Z",
     "iopub.status.busy": "2022-12-24T15:50:25.636955Z",
     "iopub.status.idle": "2022-12-24T15:50:25.643169Z",
     "shell.execute_reply": "2022-12-24T15:50:25.642064Z"
    },
    "papermill": {
     "duration": 0.017163,
     "end_time": "2022-12-24T15:50:25.646285",
     "exception": false,
     "start_time": "2022-12-24T15:50:25.629122",
     "status": "completed"
    },
    "tags": []
   },
   "outputs": [
    {
     "name": "stdout",
     "output_type": "stream",
     "text": [
      "1.987\n",
      "<class 'float'>\n",
      "1\n",
      "<class 'int'>\n"
     ]
    }
   ],
   "source": [
    "# Define a float\n",
    "y = 1.987\n",
    "print(y)\n",
    "print(type(y))\n",
    "\n",
    "# Convert float to integer with the int function\n",
    "z = int(y)\n",
    "print(z)\n",
    "print(type(z))"
   ]
  },
  {
   "cell_type": "markdown",
   "id": "a2ce3c36",
   "metadata": {
    "papermill": {
     "duration": 0.006251,
     "end_time": "2022-12-24T15:50:25.659413",
     "exception": false,
     "start_time": "2022-12-24T15:50:25.653162",
     "status": "completed"
    },
    "tags": []
   },
   "source": [
    "In this case, the float you are using has no numbers after the decimal.  \n",
    "- But what happens when you try to convert a float with a fractional part to an integer?  It's gonna be rounded.\n",
    "- How does the outcome of the `int` function change for positive and negative numbers? The outcome could be positive for positive numbers or negative for negative numbers\n",
    "\n",
    "Use the next code cell to investigate and answer these questions.  Feel free to add or remove any lines of code -- it is your workspace!"
   ]
  },
  {
   "cell_type": "code",
   "execution_count": 3,
   "id": "10ba7e1e",
   "metadata": {
    "execution": {
     "iopub.execute_input": "2022-12-24T15:50:25.674326Z",
     "iopub.status.busy": "2022-12-24T15:50:25.673926Z",
     "iopub.status.idle": "2022-12-24T15:50:25.681008Z",
     "shell.execute_reply": "2022-12-24T15:50:25.679550Z"
    },
    "papermill": {
     "duration": 0.017808,
     "end_time": "2022-12-24T15:50:25.683756",
     "exception": false,
     "start_time": "2022-12-24T15:50:25.665948",
     "status": "completed"
    },
    "tags": []
   },
   "outputs": [
    {
     "name": "stdout",
     "output_type": "stream",
     "text": [
      "1\n",
      "1\n",
      "-3\n",
      "-2\n"
     ]
    }
   ],
   "source": [
    "# Uncomment and run this code to get started!\n",
    "print(int(1.2321))\n",
    "print(int(1.747))\n",
    "print(int(-3.94535))\n",
    "print(int(-2.19774))"
   ]
  },
  {
   "cell_type": "markdown",
   "id": "09501c56",
   "metadata": {
    "papermill": {
     "duration": 0.008054,
     "end_time": "2022-12-24T15:50:25.698632",
     "exception": false,
     "start_time": "2022-12-24T15:50:25.690578",
     "status": "completed"
    },
    "tags": []
   },
   "source": [
    "Once you have an answer, run the code cell below to see the solution.  Viewing the solution will give you credit for answering the problem."
   ]
  },
  {
   "cell_type": "code",
   "execution_count": 4,
   "id": "6eec11cd",
   "metadata": {
    "execution": {
     "iopub.execute_input": "2022-12-24T15:50:25.713593Z",
     "iopub.status.busy": "2022-12-24T15:50:25.713170Z",
     "iopub.status.idle": "2022-12-24T15:50:25.719461Z",
     "shell.execute_reply": "2022-12-24T15:50:25.718248Z"
    },
    "papermill": {
     "duration": 0.017275,
     "end_time": "2022-12-24T15:50:25.722562",
     "exception": false,
     "start_time": "2022-12-24T15:50:25.705287",
     "status": "completed"
    },
    "tags": []
   },
   "outputs": [
    {
     "name": "stdout",
     "output_type": "stream",
     "text": [
      "1.923134345\n",
      "<class 'float'>\n",
      "1\n",
      "<class 'int'>\n"
     ]
    }
   ],
   "source": [
    "# Check your answer (Run this code cell to receive credit!)\n",
    "# Define a float\n",
    "y = 1.923134345\n",
    "print(y)\n",
    "print(type(y))\n",
    "\n",
    "# Convert float to integer with the int function\n",
    "z = int(y)\n",
    "print(z)\n",
    "print(type(z))\n"
   ]
  },
  {
   "cell_type": "markdown",
   "id": "eb41777b",
   "metadata": {
    "papermill": {
     "duration": 0.006358,
     "end_time": "2022-12-24T15:50:25.735812",
     "exception": false,
     "start_time": "2022-12-24T15:50:25.729454",
     "status": "completed"
    },
    "tags": []
   },
   "source": [
    "# Question 2\n",
    "\n",
    "In the tutorial, you learned about booleans (which can take a value of `True` or `False`), in addition to integers, floats, and strings.  For this question, your goal is to determine what happens when you multiply a boolean by any of these data types.  Specifically, \n",
    "- What happens when you multiply an integer or float by `True`?  What happens when you multiply them by `False`?  How does the answer change if the numbers are positive or negative?\n",
    "- What happens when you multiply a string by `True`?  By `False`?\n",
    "\n",
    "Use the next code cell for your investigation. "
   ]
  },
  {
   "cell_type": "code",
   "execution_count": 5,
   "id": "910fee1d",
   "metadata": {
    "execution": {
     "iopub.execute_input": "2022-12-24T15:50:25.752537Z",
     "iopub.status.busy": "2022-12-24T15:50:25.752085Z",
     "iopub.status.idle": "2022-12-24T15:50:25.758893Z",
     "shell.execute_reply": "2022-12-24T15:50:25.757606Z"
    },
    "papermill": {
     "duration": 0.019621,
     "end_time": "2022-12-24T15:50:25.762089",
     "exception": false,
     "start_time": "2022-12-24T15:50:25.742468",
     "status": "completed"
    },
    "tags": []
   },
   "outputs": [
    {
     "name": "stdout",
     "output_type": "stream",
     "text": [
      "3\n",
      "-3.1\n",
      "<class 'str'>\n",
      "0\n"
     ]
    }
   ],
   "source": [
    "# Uncomment and run this code to get started!\n",
    "print(3 * True)\n",
    "print(-3.1 * True)\n",
    "print(type(\"abc\" * False))\n",
    "print(len(\"abc\" * False))"
   ]
  },
  {
   "cell_type": "markdown",
   "id": "e12a3e7b",
   "metadata": {
    "papermill": {
     "duration": 0.00639,
     "end_time": "2022-12-24T15:50:25.776140",
     "exception": false,
     "start_time": "2022-12-24T15:50:25.769750",
     "status": "completed"
    },
    "tags": []
   },
   "source": [
    "Once you have an answer, run the code cell below to see the solution.  Viewing the solution will give you credit for answering the problem."
   ]
  },
  {
   "cell_type": "code",
   "execution_count": 6,
   "id": "ba8ff1bb",
   "metadata": {
    "execution": {
     "iopub.execute_input": "2022-12-24T15:50:25.791177Z",
     "iopub.status.busy": "2022-12-24T15:50:25.790788Z",
     "iopub.status.idle": "2022-12-24T15:50:25.802359Z",
     "shell.execute_reply": "2022-12-24T15:50:25.801157Z"
    },
    "papermill": {
     "duration": 0.022048,
     "end_time": "2022-12-24T15:50:25.804813",
     "exception": false,
     "start_time": "2022-12-24T15:50:25.782765",
     "status": "completed"
    },
    "tags": []
   },
   "outputs": [
    {
     "data": {
      "application/javascript": [
       "parent.postMessage({\"jupyterEvent\": \"custom.exercise_interaction\", \"data\": {\"outcomeType\": 1, \"valueTowardsCompletion\": 0.2, \"interactionType\": 1, \"questionType\": 4, \"questionId\": \"2_MultiplyBooleans\", \"learnToolsVersion\": \"0.3.4\", \"failureMessage\": \"\", \"exceptionClass\": \"\", \"trace\": \"\"}}, \"*\")"
      ],
      "text/plain": [
       "<IPython.core.display.Javascript object>"
      ]
     },
     "metadata": {},
     "output_type": "display_data"
    },
    {
     "data": {
      "text/markdown": [
       "<span style=\"color:#33cc33\">Correct:</span> \n",
       "\n",
       "When you multiple an integer or float by a boolean with value `True`, it just returns that same integer or float (and is equivalent to multiplying by 1).  If you multiply an integer or float by a boolean with value `False`, it always returns 0.  This is true for both positive and negative numbers.  If you multiply a string by a boolean with value `True`, it just returns that same string.  And if you multiply a string by a boolean with value `False`, it returns an empty string (or a string with length zero)."
      ],
      "text/plain": [
       "Correct: \n",
       "\n",
       "When you multiple an integer or float by a boolean with value `True`, it just returns that same integer or float (and is equivalent to multiplying by 1).  If you multiply an integer or float by a boolean with value `False`, it always returns 0.  This is true for both positive and negative numbers.  If you multiply a string by a boolean with value `True`, it just returns that same string.  And if you multiply a string by a boolean with value `False`, it returns an empty string (or a string with length zero)."
      ]
     },
     "metadata": {},
     "output_type": "display_data"
    }
   ],
   "source": [
    "# Check your answer (Run this code cell to receive credit!)\n",
    "q2.check()"
   ]
  },
  {
   "cell_type": "markdown",
   "id": "40656b37",
   "metadata": {
    "papermill": {
     "duration": 0.006588,
     "end_time": "2022-12-24T15:50:25.818660",
     "exception": false,
     "start_time": "2022-12-24T15:50:25.812072",
     "status": "completed"
    },
    "tags": []
   },
   "source": [
    "# Question 3\n",
    "\n",
    "In this question, you will build off your work from the previous exercise to write a function that estimates the value of a house.\n",
    "\n",
    "Use the next code cell to create a function `get_expected_cost` that takes as input three variables:\n",
    "- `beds` - number of bedrooms (data type float)\n",
    "- `baths` - number of bathrooms (data type float)\n",
    "- `has_basement` - whether or not the house has a basement (data type boolean)\n",
    "\n",
    "It should return the expected cost of a house with those characteristics. Assume that:\n",
    "- the expected cost for a house with 0 bedrooms and 0 bathrooms, and no basement is 80000, \n",
    "- each bedroom adds 30000 to the expected cost,\n",
    "- each bathroom adds 10000 to the expected cost, and\n",
    "- a basement adds 40000 to the expected cost.\n",
    "\n",
    "For instance,\n",
    "- a house with 1 bedroom, 1 bathroom, and no basement has an expected cost of 80000 + 30000 + 10000 = 120000.  This value will be calculated with `get_expected_cost(1, 1, False)`.\n",
    "- a house with 2 bedrooms, 1 bathroom, and a basement has an expected cost of 80000 + 2*30000 + 10000 + 40000 = 190000.  This value will be calculated with `get_expected_cost(2, 1, True)`.\n",
    "\n",
    "Remember you can always get a hint by uncommenting `q3.hint()` in the code cell following the next!"
   ]
  },
  {
   "cell_type": "code",
   "execution_count": 7,
   "id": "7beff572",
   "metadata": {
    "execution": {
     "iopub.execute_input": "2022-12-24T15:50:25.834073Z",
     "iopub.status.busy": "2022-12-24T15:50:25.833653Z",
     "iopub.status.idle": "2022-12-24T15:50:25.842657Z",
     "shell.execute_reply": "2022-12-24T15:50:25.841762Z"
    },
    "papermill": {
     "duration": 0.019266,
     "end_time": "2022-12-24T15:50:25.844810",
     "exception": false,
     "start_time": "2022-12-24T15:50:25.825544",
     "status": "completed"
    },
    "tags": []
   },
   "outputs": [
    {
     "data": {
      "application/javascript": [
       "parent.postMessage({\"jupyterEvent\": \"custom.exercise_interaction\", \"data\": {\"outcomeType\": 1, \"valueTowardsCompletion\": 0.2, \"interactionType\": 1, \"questionType\": 2, \"questionId\": \"3_EstimateHouseValueBool\", \"learnToolsVersion\": \"0.3.4\", \"failureMessage\": \"\", \"exceptionClass\": \"\", \"trace\": \"\"}}, \"*\")"
      ],
      "text/plain": [
       "<IPython.core.display.Javascript object>"
      ]
     },
     "metadata": {},
     "output_type": "display_data"
    },
    {
     "data": {
      "text/markdown": [
       "<span style=\"color:#33cc33\">Correct</span>"
      ],
      "text/plain": [
       "Correct"
      ]
     },
     "metadata": {},
     "output_type": "display_data"
    }
   ],
   "source": [
    "# TODO: Complete the function\n",
    "def get_expected_cost(beds, baths, has_basement):\n",
    "    value = 80000 + 30000 * beds + 10000 * baths + 40000 * has_basement\n",
    "    return value\n",
    "\n",
    "\n",
    "# Check your answer \n",
    "q3.check()"
   ]
  },
  {
   "cell_type": "code",
   "execution_count": 8,
   "id": "cabc801b",
   "metadata": {
    "execution": {
     "iopub.execute_input": "2022-12-24T15:50:25.861728Z",
     "iopub.status.busy": "2022-12-24T15:50:25.861297Z",
     "iopub.status.idle": "2022-12-24T15:50:25.874461Z",
     "shell.execute_reply": "2022-12-24T15:50:25.873496Z"
    },
    "papermill": {
     "duration": 0.024097,
     "end_time": "2022-12-24T15:50:25.876667",
     "exception": false,
     "start_time": "2022-12-24T15:50:25.852570",
     "status": "completed"
    },
    "tags": []
   },
   "outputs": [
    {
     "data": {
      "application/javascript": [
       "parent.postMessage({\"jupyterEvent\": \"custom.exercise_interaction\", \"data\": {\"interactionType\": 2, \"questionType\": 2, \"questionId\": \"3_EstimateHouseValueBool\", \"learnToolsVersion\": \"0.3.4\", \"valueTowardsCompletion\": 0.0, \"failureMessage\": \"\", \"exceptionClass\": \"\", \"trace\": \"\", \"outcomeType\": 4}}, \"*\")"
      ],
      "text/plain": [
       "<IPython.core.display.Javascript object>"
      ]
     },
     "metadata": {},
     "output_type": "display_data"
    },
    {
     "data": {
      "text/markdown": [
       "<span style=\"color:#3366cc\">Hint:</span> The variable `has_basement` is either `True` or `False`.  What happens when you multiply it by 40000 (the value of a basement)?  Refer to the previous question if you are unsure."
      ],
      "text/plain": [
       "Hint: The variable `has_basement` is either `True` or `False`.  What happens when you multiply it by 40000 (the value of a basement)?  Refer to the previous question if you are unsure."
      ]
     },
     "metadata": {},
     "output_type": "display_data"
    },
    {
     "data": {
      "application/javascript": [
       "parent.postMessage({\"jupyterEvent\": \"custom.exercise_interaction\", \"data\": {\"interactionType\": 3, \"questionType\": 2, \"questionId\": \"3_EstimateHouseValueBool\", \"learnToolsVersion\": \"0.3.4\", \"valueTowardsCompletion\": 0.0, \"failureMessage\": \"\", \"exceptionClass\": \"\", \"trace\": \"\", \"outcomeType\": 4}}, \"*\")"
      ],
      "text/plain": [
       "<IPython.core.display.Javascript object>"
      ]
     },
     "metadata": {},
     "output_type": "display_data"
    },
    {
     "data": {
      "text/markdown": [
       "<span style=\"color:#33cc99\">Solution:</span> \n",
       "```python\n",
       "def get_expected_cost(beds, baths, has_basement):\n",
       "    value = 80000 + 30000 * beds + 10000 * baths + 40000 * has_basement\n",
       "    return value\n",
       "\n",
       "```"
      ],
      "text/plain": [
       "Solution: \n",
       "```python\n",
       "def get_expected_cost(beds, baths, has_basement):\n",
       "    value = 80000 + 30000 * beds + 10000 * baths + 40000 * has_basement\n",
       "    return value\n",
       "\n",
       "```"
      ]
     },
     "metadata": {},
     "output_type": "display_data"
    }
   ],
   "source": [
    "# Uncomment to see a hint\n",
    "q3.hint()\n",
    "\n",
    "# Uncomment to view the solution\n",
    "q3.solution()"
   ]
  },
  {
   "cell_type": "markdown",
   "id": "e1435a8c",
   "metadata": {
    "papermill": {
     "duration": 0.007347,
     "end_time": "2022-12-24T15:50:25.891759",
     "exception": false,
     "start_time": "2022-12-24T15:50:25.884412",
     "status": "completed"
    },
    "tags": []
   },
   "source": [
    "# Question 4\n",
    "\n",
    "We'll continue our study of boolean arithmetic.  For this question, your task is to provide a description of what happpens when you add booleans. \n",
    "\n",
    "Use the next code cell for your investigation.  Feel free to add or remove any lines of code - use it as your workspace!"
   ]
  },
  {
   "cell_type": "code",
   "execution_count": 9,
   "id": "0b15fa6b",
   "metadata": {
    "execution": {
     "iopub.execute_input": "2022-12-24T15:50:25.908851Z",
     "iopub.status.busy": "2022-12-24T15:50:25.908479Z",
     "iopub.status.idle": "2022-12-24T15:50:25.915294Z",
     "shell.execute_reply": "2022-12-24T15:50:25.914167Z"
    },
    "papermill": {
     "duration": 0.018629,
     "end_time": "2022-12-24T15:50:25.917961",
     "exception": false,
     "start_time": "2022-12-24T15:50:25.899332",
     "status": "completed"
    },
    "tags": []
   },
   "outputs": [
    {
     "name": "stdout",
     "output_type": "stream",
     "text": [
      "0\n",
      "1\n",
      "1\n",
      "1\n",
      "2\n",
      "1\n",
      "1\n",
      "4\n"
     ]
    }
   ],
   "source": [
    "print(False + False)\n",
    "print(True + False)\n",
    "print (False + True)\n",
    "print(True + False)\n",
    "print(True + True + False)\n",
    "print(True + False + False)\n",
    "print(False + True + False)\n",
    "print(True + True + False + True + True + False)\n",
    "\n",
    "\n",
    "\n",
    "\n"
   ]
  },
  {
   "cell_type": "markdown",
   "id": "9cd49399",
   "metadata": {
    "papermill": {
     "duration": 0.00803,
     "end_time": "2022-12-24T15:50:25.934485",
     "exception": false,
     "start_time": "2022-12-24T15:50:25.926455",
     "status": "completed"
    },
    "tags": []
   },
   "source": [
    "Once you have an answer, run the code cell below to see the solution.  Viewing the solution will give you credit for answering the problem."
   ]
  },
  {
   "cell_type": "code",
   "execution_count": 10,
   "id": "49b6b9bb",
   "metadata": {
    "execution": {
     "iopub.execute_input": "2022-12-24T15:50:25.951810Z",
     "iopub.status.busy": "2022-12-24T15:50:25.951426Z",
     "iopub.status.idle": "2022-12-24T15:50:25.960001Z",
     "shell.execute_reply": "2022-12-24T15:50:25.958849Z"
    },
    "papermill": {
     "duration": 0.020131,
     "end_time": "2022-12-24T15:50:25.962321",
     "exception": false,
     "start_time": "2022-12-24T15:50:25.942190",
     "status": "completed"
    },
    "tags": []
   },
   "outputs": [
    {
     "data": {
      "application/javascript": [
       "parent.postMessage({\"jupyterEvent\": \"custom.exercise_interaction\", \"data\": {\"outcomeType\": 1, \"valueTowardsCompletion\": 0.2, \"interactionType\": 1, \"questionType\": 4, \"questionId\": \"4_AddingBooleans\", \"learnToolsVersion\": \"0.3.4\", \"failureMessage\": \"\", \"exceptionClass\": \"\", \"trace\": \"\"}}, \"*\")"
      ],
      "text/plain": [
       "<IPython.core.display.Javascript object>"
      ]
     },
     "metadata": {},
     "output_type": "display_data"
    },
    {
     "data": {
      "text/markdown": [
       "<span style=\"color:#33cc33\">Correct:</span> \n",
       "\n",
       "When you add booleans, adding `False` is equivalent to adding 0, and adding `True` is equivalent to adding 1."
      ],
      "text/plain": [
       "Correct: \n",
       "\n",
       "When you add booleans, adding `False` is equivalent to adding 0, and adding `True` is equivalent to adding 1."
      ]
     },
     "metadata": {},
     "output_type": "display_data"
    }
   ],
   "source": [
    "# Check your answer (Run this code cell to receive credit!)\n",
    "q4.check()"
   ]
  },
  {
   "cell_type": "markdown",
   "id": "6964150e",
   "metadata": {
    "papermill": {
     "duration": 0.007637,
     "end_time": "2022-12-24T15:50:25.978181",
     "exception": false,
     "start_time": "2022-12-24T15:50:25.970544",
     "status": "completed"
    },
    "tags": []
   },
   "source": [
    "# 🌶️ Question 5\n",
    "\n",
    "You own an online shop where you sell rings with custom engravings.  You offer both gold plated and solid gold rings.\n",
    "- Gold plated rings have a base cost of \\\\$50, and you charge \\\\$7 per engraved unit.  \n",
    "- Solid gold rings have a base cost of \\\\$100, and you charge \\\\$10 per engraved unit.\n",
    "- Spaces and punctuation are counted as engraved units.\n",
    "\n",
    "Write a function `cost_of_project()` that takes two arguments:\n",
    "- `engraving` - a Python string with the text of the engraving\n",
    "- `solid_gold` - a Boolean that indicates whether the ring is solid gold\n",
    "\n",
    "It should return the cost of the project.  This question should be fairly challenging, and you may need a hint."
   ]
  },
  {
   "cell_type": "code",
   "execution_count": 11,
   "id": "e8f70d3a",
   "metadata": {
    "execution": {
     "iopub.execute_input": "2022-12-24T15:50:25.996194Z",
     "iopub.status.busy": "2022-12-24T15:50:25.995828Z",
     "iopub.status.idle": "2022-12-24T15:50:26.005951Z",
     "shell.execute_reply": "2022-12-24T15:50:26.004676Z"
    },
    "papermill": {
     "duration": 0.021865,
     "end_time": "2022-12-24T15:50:26.008041",
     "exception": false,
     "start_time": "2022-12-24T15:50:25.986176",
     "status": "completed"
    },
    "tags": []
   },
   "outputs": [
    {
     "data": {
      "application/javascript": [
       "parent.postMessage({\"jupyterEvent\": \"custom.exercise_interaction\", \"data\": {\"outcomeType\": 1, \"valueTowardsCompletion\": 0.2, \"interactionType\": 1, \"questionType\": 2, \"questionId\": \"5_CustomEngravings\", \"learnToolsVersion\": \"0.3.4\", \"failureMessage\": \"\", \"exceptionClass\": \"\", \"trace\": \"\"}}, \"*\")"
      ],
      "text/plain": [
       "<IPython.core.display.Javascript object>"
      ]
     },
     "metadata": {},
     "output_type": "display_data"
    },
    {
     "data": {
      "text/markdown": [
       "<span style=\"color:#33cc33\">Correct</span>"
      ],
      "text/plain": [
       "Correct"
      ]
     },
     "metadata": {},
     "output_type": "display_data"
    }
   ],
   "source": [
    "def cost_of_project(engraving, solid_gold):\n",
    "    cost = solid_gold * (100 + 10 * len(engraving)) + (not solid_gold) * (50 + 7 * len(engraving))\n",
    "    \n",
    "    return cost\n",
    "\n",
    "\n",
    "# Check your answer\n",
    "q5.check()"
   ]
  },
  {
   "cell_type": "code",
   "execution_count": 12,
   "id": "9fa171e6",
   "metadata": {
    "execution": {
     "iopub.execute_input": "2022-12-24T15:50:26.026710Z",
     "iopub.status.busy": "2022-12-24T15:50:26.026267Z",
     "iopub.status.idle": "2022-12-24T15:50:26.038846Z",
     "shell.execute_reply": "2022-12-24T15:50:26.037787Z"
    },
    "papermill": {
     "duration": 0.024616,
     "end_time": "2022-12-24T15:50:26.041117",
     "exception": false,
     "start_time": "2022-12-24T15:50:26.016501",
     "status": "completed"
    },
    "tags": []
   },
   "outputs": [
    {
     "data": {
      "application/javascript": [
       "parent.postMessage({\"jupyterEvent\": \"custom.exercise_interaction\", \"data\": {\"interactionType\": 2, \"questionType\": 2, \"questionId\": \"5_CustomEngravings\", \"learnToolsVersion\": \"0.3.4\", \"valueTowardsCompletion\": 0.0, \"failureMessage\": \"\", \"exceptionClass\": \"\", \"trace\": \"\", \"outcomeType\": 4}}, \"*\")"
      ],
      "text/plain": [
       "<IPython.core.display.Javascript object>"
      ]
     },
     "metadata": {},
     "output_type": "display_data"
    },
    {
     "data": {
      "text/markdown": [
       "<span style=\"color:#3366cc\">Hint:</span> There are two options - either the project uses solid gold or does not.  With this in mind, you can structure your solution like this: `cost = solid_gold * ____ + (not_solid_gold) * ____`.  You need to figure out how to fill in the blanks. Also, remember that:\n",
       "- If `solid_gold = True`, then `(not solid_gold) = False`, and if `solid_gold = False`, then `(not solid_gold) = True`.\n",
       "- Multiplying an integer by `True` is equivalent to multiplying it by 1, and multiplying an integer by `False` is equivalent to multiplying it by 0."
      ],
      "text/plain": [
       "Hint: There are two options - either the project uses solid gold or does not.  With this in mind, you can structure your solution like this: `cost = solid_gold * ____ + (not_solid_gold) * ____`.  You need to figure out how to fill in the blanks. Also, remember that:\n",
       "- If `solid_gold = True`, then `(not solid_gold) = False`, and if `solid_gold = False`, then `(not solid_gold) = True`.\n",
       "- Multiplying an integer by `True` is equivalent to multiplying it by 1, and multiplying an integer by `False` is equivalent to multiplying it by 0."
      ]
     },
     "metadata": {},
     "output_type": "display_data"
    },
    {
     "data": {
      "application/javascript": [
       "parent.postMessage({\"jupyterEvent\": \"custom.exercise_interaction\", \"data\": {\"interactionType\": 3, \"questionType\": 2, \"questionId\": \"5_CustomEngravings\", \"learnToolsVersion\": \"0.3.4\", \"valueTowardsCompletion\": 0.0, \"failureMessage\": \"\", \"exceptionClass\": \"\", \"trace\": \"\", \"outcomeType\": 4}}, \"*\")"
      ],
      "text/plain": [
       "<IPython.core.display.Javascript object>"
      ]
     },
     "metadata": {},
     "output_type": "display_data"
    },
    {
     "data": {
      "text/markdown": [
       "<span style=\"color:#33cc99\">Solution:</span> \n",
       "```python\n",
       "def cost_of_project(engraving, solid_gold):\n",
       "    cost = solid_gold * (100 + 10 * len(engraving)) + (not solid_gold) * (50 + 7 * len(engraving))\n",
       "    return cost\n",
       "\n",
       "```"
      ],
      "text/plain": [
       "Solution: \n",
       "```python\n",
       "def cost_of_project(engraving, solid_gold):\n",
       "    cost = solid_gold * (100 + 10 * len(engraving)) + (not solid_gold) * (50 + 7 * len(engraving))\n",
       "    return cost\n",
       "\n",
       "```"
      ]
     },
     "metadata": {},
     "output_type": "display_data"
    }
   ],
   "source": [
    "# Uncomment to see a hint\n",
    "q5.hint()\n",
    "\n",
    "# Uncomment to view the solution\n",
    "q5.solution()"
   ]
  },
  {
   "cell_type": "markdown",
   "id": "2c795dd3",
   "metadata": {
    "papermill": {
     "duration": 0.008619,
     "end_time": "2022-12-24T15:50:26.058674",
     "exception": false,
     "start_time": "2022-12-24T15:50:26.050055",
     "status": "completed"
    },
    "tags": []
   },
   "source": [
    "Run the next code cell to calculate the cost of engraving `Charlie+Denver` on a solid gold ring."
   ]
  },
  {
   "cell_type": "code",
   "execution_count": 13,
   "id": "f2620da2",
   "metadata": {
    "execution": {
     "iopub.execute_input": "2022-12-24T15:50:26.078137Z",
     "iopub.status.busy": "2022-12-24T15:50:26.077726Z",
     "iopub.status.idle": "2022-12-24T15:50:26.083661Z",
     "shell.execute_reply": "2022-12-24T15:50:26.082349Z"
    },
    "papermill": {
     "duration": 0.018597,
     "end_time": "2022-12-24T15:50:26.085971",
     "exception": false,
     "start_time": "2022-12-24T15:50:26.067374",
     "status": "completed"
    },
    "tags": []
   },
   "outputs": [
    {
     "name": "stdout",
     "output_type": "stream",
     "text": [
      "240\n"
     ]
    }
   ],
   "source": [
    "project_one = cost_of_project(\"Charlie+Denver\", True)\n",
    "print(project_one)"
   ]
  },
  {
   "cell_type": "markdown",
   "id": "6bb4d907",
   "metadata": {
    "papermill": {
     "duration": 0.008334,
     "end_time": "2022-12-24T15:50:26.103120",
     "exception": false,
     "start_time": "2022-12-24T15:50:26.094786",
     "status": "completed"
    },
    "tags": []
   },
   "source": [
    "Use the next code cell to calculate the cost of engraving `08/10/2000` on a gold plated ring."
   ]
  },
  {
   "cell_type": "code",
   "execution_count": 14,
   "id": "399f59b3",
   "metadata": {
    "execution": {
     "iopub.execute_input": "2022-12-24T15:50:26.122753Z",
     "iopub.status.busy": "2022-12-24T15:50:26.122054Z",
     "iopub.status.idle": "2022-12-24T15:50:26.127883Z",
     "shell.execute_reply": "2022-12-24T15:50:26.126781Z"
    },
    "papermill": {
     "duration": 0.018426,
     "end_time": "2022-12-24T15:50:26.130418",
     "exception": false,
     "start_time": "2022-12-24T15:50:26.111992",
     "status": "completed"
    },
    "tags": []
   },
   "outputs": [
    {
     "name": "stdout",
     "output_type": "stream",
     "text": [
      "120\n"
     ]
    }
   ],
   "source": [
    "project_two = cost_of_project(\"08/10/2000\", False)\n",
    "print(project_two)"
   ]
  },
  {
   "cell_type": "markdown",
   "id": "7c73d65c",
   "metadata": {
    "papermill": {
     "duration": 0.008665,
     "end_time": "2022-12-24T15:50:26.147889",
     "exception": false,
     "start_time": "2022-12-24T15:50:26.139224",
     "status": "completed"
    },
    "tags": []
   },
   "source": [
    "# Keep going\n",
    "\n",
    "Continue to the next lesson to **[learn about conditions and conditional statements](https://www.kaggle.com/alexisbcook/conditions-and-conditional-statements)**."
   ]
  },
  {
   "cell_type": "markdown",
   "id": "c3d4b919",
   "metadata": {
    "papermill": {
     "duration": 0.00879,
     "end_time": "2022-12-24T15:50:26.165601",
     "exception": false,
     "start_time": "2022-12-24T15:50:26.156811",
     "status": "completed"
    },
    "tags": []
   },
   "source": [
    "---\n",
    "\n",
    "\n",
    "\n",
    "\n",
    "*Have questions or comments? Visit the [course discussion forum](https://www.kaggle.com/learn/intro-to-programming/discussion) to chat with other learners.*"
   ]
  }
 ],
 "metadata": {
  "kernelspec": {
   "display_name": "Python 3",
   "language": "python",
   "name": "python3"
  },
  "language_info": {
   "codemirror_mode": {
    "name": "ipython",
    "version": 3
   },
   "file_extension": ".py",
   "mimetype": "text/x-python",
   "name": "python",
   "nbconvert_exporter": "python",
   "pygments_lexer": "ipython3",
   "version": "3.7.12"
  },
  "papermill": {
   "default_parameters": {},
   "duration": 9.852742,
   "end_time": "2022-12-24T15:50:26.796993",
   "environment_variables": {},
   "exception": null,
   "input_path": "__notebook__.ipynb",
   "output_path": "__notebook__.ipynb",
   "parameters": {},
   "start_time": "2022-12-24T15:50:16.944251",
   "version": "2.3.4"
  }
 },
 "nbformat": 4,
 "nbformat_minor": 5
}
