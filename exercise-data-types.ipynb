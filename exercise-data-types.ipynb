{
 "cells": [
  {
   "cell_type": "markdown",
   "id": "a5e3e028",
   "metadata": {
    "papermill": {
     "duration": 0.007661,
     "end_time": "2022-12-24T15:56:10.954407",
     "exception": false,
     "start_time": "2022-12-24T15:56:10.946746",
     "status": "completed"
    },
    "tags": []
   },
   "source": [
    "**This notebook is an exercise in the [Intro to Programming](https://www.kaggle.com/learn/intro-to-programming) course.  You can reference the tutorial at [this link](https://www.kaggle.com/alexisbcook/data-types).**\n",
    "\n",
    "---\n"
   ]
  },
  {
   "cell_type": "markdown",
   "id": "307175de",
   "metadata": {
    "papermill": {
     "duration": 0.006122,
     "end_time": "2022-12-24T15:56:10.967114",
     "exception": false,
     "start_time": "2022-12-24T15:56:10.960992",
     "status": "completed"
    },
    "tags": []
   },
   "source": [
    "In the tutorial, you learned about four different data types: floats, integers, strings, and booleans.  In this exercise, you'll experiment with them.\n",
    "\n",
    "# Set up the notebook\n",
    "\n",
    "Run the next code cell without changes to set up the notebook."
   ]
  },
  {
   "cell_type": "code",
   "execution_count": 1,
   "id": "0cb75165",
   "metadata": {
    "execution": {
     "iopub.execute_input": "2022-12-24T15:56:10.981965Z",
     "iopub.status.busy": "2022-12-24T15:56:10.981260Z",
     "iopub.status.idle": "2022-12-24T15:56:11.037749Z",
     "shell.execute_reply": "2022-12-24T15:56:11.036152Z"
    },
    "papermill": {
     "duration": 0.067191,
     "end_time": "2022-12-24T15:56:11.040608",
     "exception": false,
     "start_time": "2022-12-24T15:56:10.973417",
     "status": "completed"
    },
    "tags": []
   },
   "outputs": [
    {
     "name": "stdout",
     "output_type": "stream",
     "text": [
      "Setup complete.\n"
     ]
    }
   ],
   "source": [
    " #Set up the exercise\n",
    "from learntools.core import binder\n",
    "binder.bind(globals())\n",
    "from learntools.intro_to_programming.ex3 import *\n",
    "print('Setup complete.')"
   ]
  },
  {
   "cell_type": "markdown",
   "id": "5eb5f46f",
   "metadata": {
    "papermill": {
     "duration": 0.006111,
     "end_time": "2022-12-24T15:56:11.053485",
     "exception": false,
     "start_time": "2022-12-24T15:56:11.047374",
     "status": "completed"
    },
    "tags": []
   },
   "source": [
    "# Question 1\n",
    "\n",
    "You have seen how to convert a float to an integer with the `int` function.  Try this out yourself by running the code cell below."
   ]
  },
  {
   "cell_type": "code",
   "execution_count": 2,
   "id": "e22dad8f",
   "metadata": {
    "execution": {
     "iopub.execute_input": "2022-12-24T15:56:11.068483Z",
     "iopub.status.busy": "2022-12-24T15:56:11.067803Z",
     "iopub.status.idle": "2022-12-24T15:56:11.073791Z",
     "shell.execute_reply": "2022-12-24T15:56:11.072387Z"
    },
    "papermill": {
     "duration": 0.016399,
     "end_time": "2022-12-24T15:56:11.076280",
     "exception": false,
     "start_time": "2022-12-24T15:56:11.059881",
     "status": "completed"
    },
    "tags": []
   },
   "outputs": [
    {
     "name": "stdout",
     "output_type": "stream",
     "text": [
      "1.987\n",
      "<class 'float'>\n",
      "1\n",
      "<class 'int'>\n"
     ]
    }
   ],
   "source": [
    "# Define a float\n",
    "y = 1.987\n",
    "print(y)\n",
    "print(type(y))\n",
    "\n",
    "# Convert float to integer with the int function\n",
    "z = int(y)\n",
    "print(z)\n",
    "print(type(z))"
   ]
  },
  {
   "cell_type": "markdown",
   "id": "b4228864",
   "metadata": {
    "papermill": {
     "duration": 0.006349,
     "end_time": "2022-12-24T15:56:11.089285",
     "exception": false,
     "start_time": "2022-12-24T15:56:11.082936",
     "status": "completed"
    },
    "tags": []
   },
   "source": [
    "In this case, the float you are using has no numbers after the decimal.  \n",
    "- But what happens when you try to convert a float with a fractional part to an integer?  It's gonna be rounded.\n",
    "- How does the outcome of the `int` function change for positive and negative numbers? The outcome could be positive for positive numbers or negative for negative numbers\n",
    "\n",
    "Use the next code cell to investigate and answer these questions.  Feel free to add or remove any lines of code -- it is your workspace!"
   ]
  },
  {
   "cell_type": "code",
   "execution_count": 3,
   "id": "f0447b64",
   "metadata": {
    "execution": {
     "iopub.execute_input": "2022-12-24T15:56:11.104482Z",
     "iopub.status.busy": "2022-12-24T15:56:11.103531Z",
     "iopub.status.idle": "2022-12-24T15:56:11.110095Z",
     "shell.execute_reply": "2022-12-24T15:56:11.108335Z"
    },
    "papermill": {
     "duration": 0.016713,
     "end_time": "2022-12-24T15:56:11.112478",
     "exception": false,
     "start_time": "2022-12-24T15:56:11.095765",
     "status": "completed"
    },
    "tags": []
   },
   "outputs": [
    {
     "name": "stdout",
     "output_type": "stream",
     "text": [
      "1\n",
      "1\n",
      "-3\n",
      "-2\n"
     ]
    }
   ],
   "source": [
    "# Uncomment and run this code to get started!\n",
    "print(int(1.2321))\n",
    "print(int(1.747))\n",
    "print(int(-3.94535))\n",
    "print(int(-2.19774))"
   ]
  },
  {
   "cell_type": "markdown",
   "id": "9f220e68",
   "metadata": {
    "papermill": {
     "duration": 0.006504,
     "end_time": "2022-12-24T15:56:11.127336",
     "exception": false,
     "start_time": "2022-12-24T15:56:11.120832",
     "status": "completed"
    },
    "tags": []
   },
   "source": [
    "Once you have an answer, run the code cell below to see the solution.  Viewing the solution will give you credit for answering the problem."
   ]
  },
  {
   "cell_type": "code",
   "execution_count": 4,
   "id": "97e0b37a",
   "metadata": {
    "execution": {
     "iopub.execute_input": "2022-12-24T15:56:11.142547Z",
     "iopub.status.busy": "2022-12-24T15:56:11.142092Z",
     "iopub.status.idle": "2022-12-24T15:56:11.148533Z",
     "shell.execute_reply": "2022-12-24T15:56:11.147207Z"
    },
    "papermill": {
     "duration": 0.017303,
     "end_time": "2022-12-24T15:56:11.151156",
     "exception": false,
     "start_time": "2022-12-24T15:56:11.133853",
     "status": "completed"
    },
    "tags": []
   },
   "outputs": [
    {
     "name": "stdout",
     "output_type": "stream",
     "text": [
      "1.923134345\n",
      "<class 'float'>\n",
      "1\n",
      "<class 'int'>\n"
     ]
    }
   ],
   "source": [
    "# Check your answer (Run this code cell to receive credit!)\n",
    "# Define a float\n",
    "y = 1.923134345\n",
    "print(y)\n",
    "print(type(y))\n",
    "\n",
    "# Convert float to integer with the int function\n",
    "z = int(y)\n",
    "print(z)\n",
    "print(type(z))\n"
   ]
  },
  {
   "cell_type": "markdown",
   "id": "aaa637d2",
   "metadata": {
    "papermill": {
     "duration": 0.006347,
     "end_time": "2022-12-24T15:56:11.164326",
     "exception": false,
     "start_time": "2022-12-24T15:56:11.157979",
     "status": "completed"
    },
    "tags": []
   },
   "source": [
    "# Question 2\n",
    "\n",
    "In the tutorial, you learned about booleans (which can take a value of `True` or `False`), in addition to integers, floats, and strings.  For this question, your goal is to determine what happens when you multiply a boolean by any of these data types.  Specifically, \n",
    "- What happens when you multiply an integer or float by `True`?  What happens when you multiply them by `False`?  How does the answer change if the numbers are positive or negative?\n",
    "- What happens when you multiply a string by `True`?  By `False`?\n",
    "\n",
    "Use the next code cell for your investigation. "
   ]
  },
  {
   "cell_type": "markdown",
   "id": "86cead4a",
   "metadata": {
    "papermill": {
     "duration": 0.006252,
     "end_time": "2022-12-24T15:56:11.177133",
     "exception": false,
     "start_time": "2022-12-24T15:56:11.170881",
     "status": "completed"
    },
    "tags": []
   },
   "source": []
  },
  {
   "cell_type": "code",
   "execution_count": 5,
   "id": "f8af91f0",
   "metadata": {
    "execution": {
     "iopub.execute_input": "2022-12-24T15:56:11.191845Z",
     "iopub.status.busy": "2022-12-24T15:56:11.191444Z",
     "iopub.status.idle": "2022-12-24T15:56:11.198042Z",
     "shell.execute_reply": "2022-12-24T15:56:11.196614Z"
    },
    "papermill": {
     "duration": 0.016507,
     "end_time": "2022-12-24T15:56:11.200138",
     "exception": false,
     "start_time": "2022-12-24T15:56:11.183631",
     "status": "completed"
    },
    "tags": []
   },
   "outputs": [
    {
     "name": "stdout",
     "output_type": "stream",
     "text": [
      "3\n",
      "-3.1\n",
      "<class 'str'>\n",
      "0\n"
     ]
    }
   ],
   "source": [
    "# Uncomment and run this code to get started!\n",
    "print(3 * True)\n",
    "print(-3.1 * True)\n",
    "print(type(\"abc\" * False))\n",
    "print(len(\"abc\" * False))"
   ]
  },
  {
   "cell_type": "markdown",
   "id": "eaae7598",
   "metadata": {
    "papermill": {
     "duration": 0.006722,
     "end_time": "2022-12-24T15:56:11.213586",
     "exception": false,
     "start_time": "2022-12-24T15:56:11.206864",
     "status": "completed"
    },
    "tags": []
   },
   "source": [
    "Once you have an answer, run the code cell below to see the solution.  Viewing the solution will give you credit for answering the problem."
   ]
  },
  {
   "cell_type": "code",
   "execution_count": 6,
   "id": "2ee1b2c3",
   "metadata": {
    "execution": {
     "iopub.execute_input": "2022-12-24T15:56:11.229650Z",
     "iopub.status.busy": "2022-12-24T15:56:11.228496Z",
     "iopub.status.idle": "2022-12-24T15:56:11.242062Z",
     "shell.execute_reply": "2022-12-24T15:56:11.241010Z"
    },
    "papermill": {
     "duration": 0.024082,
     "end_time": "2022-12-24T15:56:11.244453",
     "exception": false,
     "start_time": "2022-12-24T15:56:11.220371",
     "status": "completed"
    },
    "tags": []
   },
   "outputs": [
    {
     "data": {
      "application/javascript": [
       "parent.postMessage({\"jupyterEvent\": \"custom.exercise_interaction\", \"data\": {\"outcomeType\": 1, \"valueTowardsCompletion\": 0.2, \"interactionType\": 1, \"questionType\": 4, \"questionId\": \"2_MultiplyBooleans\", \"learnToolsVersion\": \"0.3.4\", \"failureMessage\": \"\", \"exceptionClass\": \"\", \"trace\": \"\"}}, \"*\")"
      ],
      "text/plain": [
       "<IPython.core.display.Javascript object>"
      ]
     },
     "metadata": {},
     "output_type": "display_data"
    },
    {
     "data": {
      "text/markdown": [
       "<span style=\"color:#33cc33\">Correct:</span> \n",
       "\n",
       "When you multiple an integer or float by a boolean with value `True`, it just returns that same integer or float (and is equivalent to multiplying by 1).  If you multiply an integer or float by a boolean with value `False`, it always returns 0.  This is true for both positive and negative numbers.  If you multiply a string by a boolean with value `True`, it just returns that same string.  And if you multiply a string by a boolean with value `False`, it returns an empty string (or a string with length zero)."
      ],
      "text/plain": [
       "Correct: \n",
       "\n",
       "When you multiple an integer or float by a boolean with value `True`, it just returns that same integer or float (and is equivalent to multiplying by 1).  If you multiply an integer or float by a boolean with value `False`, it always returns 0.  This is true for both positive and negative numbers.  If you multiply a string by a boolean with value `True`, it just returns that same string.  And if you multiply a string by a boolean with value `False`, it returns an empty string (or a string with length zero)."
      ]
     },
     "metadata": {},
     "output_type": "display_data"
    }
   ],
   "source": [
    "# Check your answer (Run this code cell to receive credit!)\n",
    "q2.check()"
   ]
  },
  {
   "cell_type": "markdown",
   "id": "f6f24acf",
   "metadata": {
    "papermill": {
     "duration": 0.006756,
     "end_time": "2022-12-24T15:56:11.258268",
     "exception": false,
     "start_time": "2022-12-24T15:56:11.251512",
     "status": "completed"
    },
    "tags": []
   },
   "source": [
    "# Question 3\n",
    "\n",
    "In this question, you will build off your work from the previous exercise to write a function that estimates the value of a house.\n",
    "\n",
    "Use the next code cell to create a function `get_expected_cost` that takes as input three variables:\n",
    "- `beds` - number of bedrooms (data type float)\n",
    "- `baths` - number of bathrooms (data type float)\n",
    "- `has_basement` - whether or not the house has a basement (data type boolean)\n",
    "\n",
    "It should return the expected cost of a house with those characteristics. Assume that:\n",
    "- the expected cost for a house with 0 bedrooms and 0 bathrooms, and no basement is 80000, \n",
    "- each bedroom adds 30000 to the expected cost,\n",
    "- each bathroom adds 10000 to the expected cost, and\n",
    "- a basement adds 40000 to the expected cost.\n",
    "\n",
    "For instance,\n",
    "- a house with 1 bedroom, 1 bathroom, and no basement has an expected cost of 80000 + 30000 + 10000 = 120000.  This value will be calculated with `get_expected_cost(1, 1, False)`.\n",
    "- a house with 2 bedrooms, 1 bathroom, and a basement has an expected cost of 80000 + 2*30000 + 10000 + 40000 = 190000.  This value will be calculated with `get_expected_cost(2, 1, True)`.\n",
    "\n",
    "Remember you can always get a hint by uncommenting `q3.hint()` in the code cell following the next!"
   ]
  },
  {
   "cell_type": "code",
   "execution_count": 7,
   "id": "8a055616",
   "metadata": {
    "execution": {
     "iopub.execute_input": "2022-12-24T15:56:11.273851Z",
     "iopub.status.busy": "2022-12-24T15:56:11.273429Z",
     "iopub.status.idle": "2022-12-24T15:56:11.283717Z",
     "shell.execute_reply": "2022-12-24T15:56:11.282455Z"
    },
    "papermill": {
     "duration": 0.020841,
     "end_time": "2022-12-24T15:56:11.286037",
     "exception": false,
     "start_time": "2022-12-24T15:56:11.265196",
     "status": "completed"
    },
    "tags": []
   },
   "outputs": [
    {
     "data": {
      "application/javascript": [
       "parent.postMessage({\"jupyterEvent\": \"custom.exercise_interaction\", \"data\": {\"outcomeType\": 1, \"valueTowardsCompletion\": 0.2, \"interactionType\": 1, \"questionType\": 2, \"questionId\": \"3_EstimateHouseValueBool\", \"learnToolsVersion\": \"0.3.4\", \"failureMessage\": \"\", \"exceptionClass\": \"\", \"trace\": \"\"}}, \"*\")"
      ],
      "text/plain": [
       "<IPython.core.display.Javascript object>"
      ]
     },
     "metadata": {},
     "output_type": "display_data"
    },
    {
     "data": {
      "text/markdown": [
       "<span style=\"color:#33cc33\">Correct</span>"
      ],
      "text/plain": [
       "Correct"
      ]
     },
     "metadata": {},
     "output_type": "display_data"
    }
   ],
   "source": [
    "# TODO: Complete the function\n",
    "def get_expected_cost(beds, baths, has_basement):\n",
    "    value = 80000 + 30000 * beds + 10000 * baths + 40000 * has_basement\n",
    "    return value\n",
    "\n",
    "\n",
    "# Check your answer \n",
    "q3.check()"
   ]
  },
  {
   "cell_type": "code",
   "execution_count": 8,
   "id": "4a47e933",
   "metadata": {
    "execution": {
     "iopub.execute_input": "2022-12-24T15:56:11.302918Z",
     "iopub.status.busy": "2022-12-24T15:56:11.302545Z",
     "iopub.status.idle": "2022-12-24T15:56:11.316408Z",
     "shell.execute_reply": "2022-12-24T15:56:11.315276Z"
    },
    "papermill": {
     "duration": 0.02518,
     "end_time": "2022-12-24T15:56:11.318763",
     "exception": false,
     "start_time": "2022-12-24T15:56:11.293583",
     "status": "completed"
    },
    "tags": []
   },
   "outputs": [
    {
     "data": {
      "application/javascript": [
       "parent.postMessage({\"jupyterEvent\": \"custom.exercise_interaction\", \"data\": {\"interactionType\": 2, \"questionType\": 2, \"questionId\": \"3_EstimateHouseValueBool\", \"learnToolsVersion\": \"0.3.4\", \"valueTowardsCompletion\": 0.0, \"failureMessage\": \"\", \"exceptionClass\": \"\", \"trace\": \"\", \"outcomeType\": 4}}, \"*\")"
      ],
      "text/plain": [
       "<IPython.core.display.Javascript object>"
      ]
     },
     "metadata": {},
     "output_type": "display_data"
    },
    {
     "data": {
      "text/markdown": [
       "<span style=\"color:#3366cc\">Hint:</span> The variable `has_basement` is either `True` or `False`.  What happens when you multiply it by 40000 (the value of a basement)?  Refer to the previous question if you are unsure."
      ],
      "text/plain": [
       "Hint: The variable `has_basement` is either `True` or `False`.  What happens when you multiply it by 40000 (the value of a basement)?  Refer to the previous question if you are unsure."
      ]
     },
     "metadata": {},
     "output_type": "display_data"
    },
    {
     "data": {
      "application/javascript": [
       "parent.postMessage({\"jupyterEvent\": \"custom.exercise_interaction\", \"data\": {\"interactionType\": 3, \"questionType\": 2, \"questionId\": \"3_EstimateHouseValueBool\", \"learnToolsVersion\": \"0.3.4\", \"valueTowardsCompletion\": 0.0, \"failureMessage\": \"\", \"exceptionClass\": \"\", \"trace\": \"\", \"outcomeType\": 4}}, \"*\")"
      ],
      "text/plain": [
       "<IPython.core.display.Javascript object>"
      ]
     },
     "metadata": {},
     "output_type": "display_data"
    },
    {
     "data": {
      "text/markdown": [
       "<span style=\"color:#33cc99\">Solution:</span> \n",
       "```python\n",
       "def get_expected_cost(beds, baths, has_basement):\n",
       "    value = 80000 + 30000 * beds + 10000 * baths + 40000 * has_basement\n",
       "    return value\n",
       "\n",
       "```"
      ],
      "text/plain": [
       "Solution: \n",
       "```python\n",
       "def get_expected_cost(beds, baths, has_basement):\n",
       "    value = 80000 + 30000 * beds + 10000 * baths + 40000 * has_basement\n",
       "    return value\n",
       "\n",
       "```"
      ]
     },
     "metadata": {},
     "output_type": "display_data"
    }
   ],
   "source": [
    "# Uncomment to see a hint\n",
    "q3.hint()\n",
    "\n",
    "# Uncomment to view the solution\n",
    "q3.solution()"
   ]
  },
  {
   "cell_type": "markdown",
   "id": "1c16b670",
   "metadata": {
    "papermill": {
     "duration": 0.007642,
     "end_time": "2022-12-24T15:56:11.334308",
     "exception": false,
     "start_time": "2022-12-24T15:56:11.326666",
     "status": "completed"
    },
    "tags": []
   },
   "source": [
    "# Question 4\n",
    "\n",
    "We'll continue our study of boolean arithmetic.  For this question, your task is to provide a description of what happpens when you add booleans. \n",
    "\n",
    "Use the next code cell for your investigation.  Feel free to add or remove any lines of code - use it as your workspace!"
   ]
  },
  {
   "cell_type": "code",
   "execution_count": 9,
   "id": "6281657d",
   "metadata": {
    "execution": {
     "iopub.execute_input": "2022-12-24T15:56:11.351959Z",
     "iopub.status.busy": "2022-12-24T15:56:11.351316Z",
     "iopub.status.idle": "2022-12-24T15:56:11.357897Z",
     "shell.execute_reply": "2022-12-24T15:56:11.356854Z"
    },
    "papermill": {
     "duration": 0.018855,
     "end_time": "2022-12-24T15:56:11.360830",
     "exception": false,
     "start_time": "2022-12-24T15:56:11.341975",
     "status": "completed"
    },
    "tags": []
   },
   "outputs": [
    {
     "name": "stdout",
     "output_type": "stream",
     "text": [
      "0\n",
      "1\n",
      "1\n",
      "1\n",
      "2\n",
      "1\n",
      "1\n",
      "4\n"
     ]
    }
   ],
   "source": [
    "print(False + False)\n",
    "print(True + False)\n",
    "print (False + True)\n",
    "print(True + False)\n",
    "print(True + True + False)\n",
    "print(True + False + False)\n",
    "print(False + True + False)\n",
    "print(True + True + False + True + True + False)\n",
    "\n",
    "\n",
    "\n",
    "\n"
   ]
  },
  {
   "cell_type": "markdown",
   "id": "3b7b6e10",
   "metadata": {
    "papermill": {
     "duration": 0.007452,
     "end_time": "2022-12-24T15:56:11.376116",
     "exception": false,
     "start_time": "2022-12-24T15:56:11.368664",
     "status": "completed"
    },
    "tags": []
   },
   "source": [
    "Once you have an answer, run the code cell below to see the solution.  Viewing the solution will give you credit for answering the problem."
   ]
  },
  {
   "cell_type": "code",
   "execution_count": 10,
   "id": "dac897be",
   "metadata": {
    "execution": {
     "iopub.execute_input": "2022-12-24T15:56:11.393485Z",
     "iopub.status.busy": "2022-12-24T15:56:11.392816Z",
     "iopub.status.idle": "2022-12-24T15:56:11.400113Z",
     "shell.execute_reply": "2022-12-24T15:56:11.398981Z"
    },
    "papermill": {
     "duration": 0.018728,
     "end_time": "2022-12-24T15:56:11.402478",
     "exception": false,
     "start_time": "2022-12-24T15:56:11.383750",
     "status": "completed"
    },
    "tags": []
   },
   "outputs": [
    {
     "data": {
      "application/javascript": [
       "parent.postMessage({\"jupyterEvent\": \"custom.exercise_interaction\", \"data\": {\"outcomeType\": 1, \"valueTowardsCompletion\": 0.2, \"interactionType\": 1, \"questionType\": 4, \"questionId\": \"4_AddingBooleans\", \"learnToolsVersion\": \"0.3.4\", \"failureMessage\": \"\", \"exceptionClass\": \"\", \"trace\": \"\"}}, \"*\")"
      ],
      "text/plain": [
       "<IPython.core.display.Javascript object>"
      ]
     },
     "metadata": {},
     "output_type": "display_data"
    },
    {
     "data": {
      "text/markdown": [
       "<span style=\"color:#33cc33\">Correct:</span> \n",
       "\n",
       "When you add booleans, adding `False` is equivalent to adding 0, and adding `True` is equivalent to adding 1."
      ],
      "text/plain": [
       "Correct: \n",
       "\n",
       "When you add booleans, adding `False` is equivalent to adding 0, and adding `True` is equivalent to adding 1."
      ]
     },
     "metadata": {},
     "output_type": "display_data"
    }
   ],
   "source": [
    "# Check your answer (Run this code cell to receive credit!)\n",
    "q4.check()"
   ]
  },
  {
   "cell_type": "markdown",
   "id": "3d1f09c5",
   "metadata": {
    "papermill": {
     "duration": 0.007763,
     "end_time": "2022-12-24T15:56:11.418805",
     "exception": false,
     "start_time": "2022-12-24T15:56:11.411042",
     "status": "completed"
    },
    "tags": []
   },
   "source": [
    "# 🌶️ Question 5\n",
    "\n",
    "You own an online shop where you sell rings with custom engravings.  You offer both gold plated and solid gold rings.\n",
    "- Gold plated rings have a base cost of \\\\$50, and you charge \\\\$7 per engraved unit.  \n",
    "- Solid gold rings have a base cost of \\\\$100, and you charge \\\\$10 per engraved unit.\n",
    "- Spaces and punctuation are counted as engraved units.\n",
    "\n",
    "Write a function `cost_of_project()` that takes two arguments:\n",
    "- `engraving` - a Python string with the text of the engraving\n",
    "- `solid_gold` - a Boolean that indicates whether the ring is solid gold\n",
    "\n",
    "It should return the cost of the project.  This question should be fairly challenging, and you may need a hint."
   ]
  },
  {
   "cell_type": "code",
   "execution_count": 11,
   "id": "090cb42a",
   "metadata": {
    "execution": {
     "iopub.execute_input": "2022-12-24T15:56:11.436926Z",
     "iopub.status.busy": "2022-12-24T15:56:11.436542Z",
     "iopub.status.idle": "2022-12-24T15:56:11.446481Z",
     "shell.execute_reply": "2022-12-24T15:56:11.445296Z"
    },
    "papermill": {
     "duration": 0.02197,
     "end_time": "2022-12-24T15:56:11.448876",
     "exception": false,
     "start_time": "2022-12-24T15:56:11.426906",
     "status": "completed"
    },
    "tags": []
   },
   "outputs": [
    {
     "data": {
      "application/javascript": [
       "parent.postMessage({\"jupyterEvent\": \"custom.exercise_interaction\", \"data\": {\"outcomeType\": 1, \"valueTowardsCompletion\": 0.2, \"interactionType\": 1, \"questionType\": 2, \"questionId\": \"5_CustomEngravings\", \"learnToolsVersion\": \"0.3.4\", \"failureMessage\": \"\", \"exceptionClass\": \"\", \"trace\": \"\"}}, \"*\")"
      ],
      "text/plain": [
       "<IPython.core.display.Javascript object>"
      ]
     },
     "metadata": {},
     "output_type": "display_data"
    },
    {
     "data": {
      "text/markdown": [
       "<span style=\"color:#33cc33\">Correct</span>"
      ],
      "text/plain": [
       "Correct"
      ]
     },
     "metadata": {},
     "output_type": "display_data"
    }
   ],
   "source": [
    "def cost_of_project(engraving, solid_gold):\n",
    "    cost = solid_gold * (100 + 10 * len(engraving)) + (not solid_gold) * (50 + 7 * len(engraving))\n",
    "    \n",
    "    return cost\n",
    "\n",
    "\n",
    "# Check your answer\n",
    "q5.check()"
   ]
  },
  {
   "cell_type": "code",
   "execution_count": 12,
   "id": "168c22e3",
   "metadata": {
    "execution": {
     "iopub.execute_input": "2022-12-24T15:56:11.468760Z",
     "iopub.status.busy": "2022-12-24T15:56:11.467680Z",
     "iopub.status.idle": "2022-12-24T15:56:11.481762Z",
     "shell.execute_reply": "2022-12-24T15:56:11.480629Z"
    },
    "papermill": {
     "duration": 0.026725,
     "end_time": "2022-12-24T15:56:11.484339",
     "exception": false,
     "start_time": "2022-12-24T15:56:11.457614",
     "status": "completed"
    },
    "tags": []
   },
   "outputs": [
    {
     "data": {
      "application/javascript": [
       "parent.postMessage({\"jupyterEvent\": \"custom.exercise_interaction\", \"data\": {\"interactionType\": 2, \"questionType\": 2, \"questionId\": \"5_CustomEngravings\", \"learnToolsVersion\": \"0.3.4\", \"valueTowardsCompletion\": 0.0, \"failureMessage\": \"\", \"exceptionClass\": \"\", \"trace\": \"\", \"outcomeType\": 4}}, \"*\")"
      ],
      "text/plain": [
       "<IPython.core.display.Javascript object>"
      ]
     },
     "metadata": {},
     "output_type": "display_data"
    },
    {
     "data": {
      "text/markdown": [
       "<span style=\"color:#3366cc\">Hint:</span> There are two options - either the project uses solid gold or does not.  With this in mind, you can structure your solution like this: `cost = solid_gold * ____ + (not_solid_gold) * ____`.  You need to figure out how to fill in the blanks. Also, remember that:\n",
       "- If `solid_gold = True`, then `(not solid_gold) = False`, and if `solid_gold = False`, then `(not solid_gold) = True`.\n",
       "- Multiplying an integer by `True` is equivalent to multiplying it by 1, and multiplying an integer by `False` is equivalent to multiplying it by 0."
      ],
      "text/plain": [
       "Hint: There are two options - either the project uses solid gold or does not.  With this in mind, you can structure your solution like this: `cost = solid_gold * ____ + (not_solid_gold) * ____`.  You need to figure out how to fill in the blanks. Also, remember that:\n",
       "- If `solid_gold = True`, then `(not solid_gold) = False`, and if `solid_gold = False`, then `(not solid_gold) = True`.\n",
       "- Multiplying an integer by `True` is equivalent to multiplying it by 1, and multiplying an integer by `False` is equivalent to multiplying it by 0."
      ]
     },
     "metadata": {},
     "output_type": "display_data"
    },
    {
     "data": {
      "application/javascript": [
       "parent.postMessage({\"jupyterEvent\": \"custom.exercise_interaction\", \"data\": {\"interactionType\": 3, \"questionType\": 2, \"questionId\": \"5_CustomEngravings\", \"learnToolsVersion\": \"0.3.4\", \"valueTowardsCompletion\": 0.0, \"failureMessage\": \"\", \"exceptionClass\": \"\", \"trace\": \"\", \"outcomeType\": 4}}, \"*\")"
      ],
      "text/plain": [
       "<IPython.core.display.Javascript object>"
      ]
     },
     "metadata": {},
     "output_type": "display_data"
    },
    {
     "data": {
      "text/markdown": [
       "<span style=\"color:#33cc99\">Solution:</span> \n",
       "```python\n",
       "def cost_of_project(engraving, solid_gold):\n",
       "    cost = solid_gold * (100 + 10 * len(engraving)) + (not solid_gold) * (50 + 7 * len(engraving))\n",
       "    return cost\n",
       "\n",
       "```"
      ],
      "text/plain": [
       "Solution: \n",
       "```python\n",
       "def cost_of_project(engraving, solid_gold):\n",
       "    cost = solid_gold * (100 + 10 * len(engraving)) + (not solid_gold) * (50 + 7 * len(engraving))\n",
       "    return cost\n",
       "\n",
       "```"
      ]
     },
     "metadata": {},
     "output_type": "display_data"
    }
   ],
   "source": [
    "# Uncomment to see a hint\n",
    "q5.hint()\n",
    "\n",
    "# Uncomment to view the solution\n",
    "q5.solution()"
   ]
  },
  {
   "cell_type": "markdown",
   "id": "2706e2ee",
   "metadata": {
    "papermill": {
     "duration": 0.008597,
     "end_time": "2022-12-24T15:56:11.501927",
     "exception": false,
     "start_time": "2022-12-24T15:56:11.493330",
     "status": "completed"
    },
    "tags": []
   },
   "source": [
    "Run the next code cell to calculate the cost of engraving `Charlie+Denver` on a solid gold ring."
   ]
  },
  {
   "cell_type": "code",
   "execution_count": 13,
   "id": "d33685e7",
   "metadata": {
    "execution": {
     "iopub.execute_input": "2022-12-24T15:56:11.521999Z",
     "iopub.status.busy": "2022-12-24T15:56:11.520935Z",
     "iopub.status.idle": "2022-12-24T15:56:11.527531Z",
     "shell.execute_reply": "2022-12-24T15:56:11.526174Z"
    },
    "papermill": {
     "duration": 0.019016,
     "end_time": "2022-12-24T15:56:11.529715",
     "exception": false,
     "start_time": "2022-12-24T15:56:11.510699",
     "status": "completed"
    },
    "tags": []
   },
   "outputs": [
    {
     "name": "stdout",
     "output_type": "stream",
     "text": [
      "240\n"
     ]
    }
   ],
   "source": [
    "project_one = cost_of_project(\"Charlie+Denver\", True)\n",
    "print(project_one)"
   ]
  },
  {
   "cell_type": "markdown",
   "id": "4150e66b",
   "metadata": {
    "papermill": {
     "duration": 0.008744,
     "end_time": "2022-12-24T15:56:11.547445",
     "exception": false,
     "start_time": "2022-12-24T15:56:11.538701",
     "status": "completed"
    },
    "tags": []
   },
   "source": [
    "Use the next code cell to calculate the cost of engraving `08/10/2000` on a gold plated ring."
   ]
  },
  {
   "cell_type": "code",
   "execution_count": 14,
   "id": "2fcc9d68",
   "metadata": {
    "execution": {
     "iopub.execute_input": "2022-12-24T15:56:11.567128Z",
     "iopub.status.busy": "2022-12-24T15:56:11.566688Z",
     "iopub.status.idle": "2022-12-24T15:56:11.572098Z",
     "shell.execute_reply": "2022-12-24T15:56:11.571039Z"
    },
    "papermill": {
     "duration": 0.018306,
     "end_time": "2022-12-24T15:56:11.574673",
     "exception": false,
     "start_time": "2022-12-24T15:56:11.556367",
     "status": "completed"
    },
    "tags": []
   },
   "outputs": [
    {
     "name": "stdout",
     "output_type": "stream",
     "text": [
      "120\n"
     ]
    }
   ],
   "source": [
    "project_two = cost_of_project(\"08/10/2000\", False)\n",
    "print(project_two)"
   ]
  },
  {
   "cell_type": "markdown",
   "id": "797fd885",
   "metadata": {
    "papermill": {
     "duration": 0.008729,
     "end_time": "2022-12-24T15:56:11.592479",
     "exception": false,
     "start_time": "2022-12-24T15:56:11.583750",
     "status": "completed"
    },
    "tags": []
   },
   "source": [
    "# Keep going\n",
    "\n",
    "Continue to the next lesson to **[learn about conditions and conditional statements](https://www.kaggle.com/alexisbcook/conditions-and-conditional-statements)**."
   ]
  },
  {
   "cell_type": "markdown",
   "id": "357a4e9e",
   "metadata": {
    "papermill": {
     "duration": 0.00866,
     "end_time": "2022-12-24T15:56:11.610686",
     "exception": false,
     "start_time": "2022-12-24T15:56:11.602026",
     "status": "completed"
    },
    "tags": []
   },
   "source": [
    "---\n",
    "\n",
    "\n",
    "\n",
    "\n",
    "*Have questions or comments? Visit the [course discussion forum](https://www.kaggle.com/learn/intro-to-programming/discussion) to chat with other learners.*"
   ]
  }
 ],
 "metadata": {
  "kernelspec": {
   "display_name": "Python 3",
   "language": "python",
   "name": "python3"
  },
  "language_info": {
   "codemirror_mode": {
    "name": "ipython",
    "version": 3
   },
   "file_extension": ".py",
   "mimetype": "text/x-python",
   "name": "python",
   "nbconvert_exporter": "python",
   "pygments_lexer": "ipython3",
   "version": "3.7.12"
  },
  "papermill": {
   "default_parameters": {},
   "duration": 11.48662,
   "end_time": "2022-12-24T15:56:12.340776",
   "environment_variables": {},
   "exception": null,
   "input_path": "__notebook__.ipynb",
   "output_path": "__notebook__.ipynb",
   "parameters": {},
   "start_time": "2022-12-24T15:56:00.854156",
   "version": "2.3.4"
  }
 },
 "nbformat": 4,
 "nbformat_minor": 5
}
