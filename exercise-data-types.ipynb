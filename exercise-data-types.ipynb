{
 "cells": [
  {
   "cell_type": "markdown",
   "id": "1ef016d0",
   "metadata": {
    "papermill": {
     "duration": 0.007774,
     "end_time": "2022-12-24T15:58:44.198410",
     "exception": false,
     "start_time": "2022-12-24T15:58:44.190636",
     "status": "completed"
    },
    "tags": []
   },
   "source": [
    "**This notebook is an exercise in the [Intro to Programming](https://www.kaggle.com/learn/intro-to-programming) course.  You can reference the tutorial at [this link](https://www.kaggle.com/alexisbcook/data-types).**\n",
    "\n",
    "---\n"
   ]
  },
  {
   "cell_type": "markdown",
   "id": "3ae80c15",
   "metadata": {
    "papermill": {
     "duration": 0.00652,
     "end_time": "2022-12-24T15:58:44.211801",
     "exception": false,
     "start_time": "2022-12-24T15:58:44.205281",
     "status": "completed"
    },
    "tags": []
   },
   "source": [
    "In the tutorial, you learned about four different data types: floats, integers, strings, and booleans.  In this exercise, you'll experiment with them.\n",
    "\n",
    "# Set up the notebook\n",
    "\n",
    "Run the next code cell without changes to set up the notebook."
   ]
  },
  {
   "cell_type": "code",
   "execution_count": 1,
   "id": "23c46052",
   "metadata": {
    "execution": {
     "iopub.execute_input": "2022-12-24T15:58:44.227321Z",
     "iopub.status.busy": "2022-12-24T15:58:44.226571Z",
     "iopub.status.idle": "2022-12-24T15:58:44.281003Z",
     "shell.execute_reply": "2022-12-24T15:58:44.279629Z"
    },
    "papermill": {
     "duration": 0.065513,
     "end_time": "2022-12-24T15:58:44.284009",
     "exception": false,
     "start_time": "2022-12-24T15:58:44.218496",
     "status": "completed"
    },
    "tags": []
   },
   "outputs": [
    {
     "name": "stdout",
     "output_type": "stream",
     "text": [
      "Setup complete.\n"
     ]
    }
   ],
   "source": [
    " #Set up the exercise\n",
    "from learntools.core import binder\n",
    "binder.bind(globals())\n",
    "from learntools.intro_to_programming.ex3 import *\n",
    "print('Setup complete.')"
   ]
  },
  {
   "cell_type": "markdown",
   "id": "bd130b69",
   "metadata": {
    "papermill": {
     "duration": 0.006122,
     "end_time": "2022-12-24T15:58:44.297015",
     "exception": false,
     "start_time": "2022-12-24T15:58:44.290893",
     "status": "completed"
    },
    "tags": []
   },
   "source": [
    "# Question 1\n",
    "\n",
    "You have seen how to convert a float to an integer with the `int` function.  Try this out yourself by running the code cell below."
   ]
  },
  {
   "cell_type": "code",
   "execution_count": 2,
   "id": "b5373a07",
   "metadata": {
    "execution": {
     "iopub.execute_input": "2022-12-24T15:58:44.311521Z",
     "iopub.status.busy": "2022-12-24T15:58:44.311095Z",
     "iopub.status.idle": "2022-12-24T15:58:44.317116Z",
     "shell.execute_reply": "2022-12-24T15:58:44.316088Z"
    },
    "papermill": {
     "duration": 0.015895,
     "end_time": "2022-12-24T15:58:44.319365",
     "exception": false,
     "start_time": "2022-12-24T15:58:44.303470",
     "status": "completed"
    },
    "tags": []
   },
   "outputs": [
    {
     "name": "stdout",
     "output_type": "stream",
     "text": [
      "1.987\n",
      "<class 'float'>\n",
      "1\n",
      "<class 'int'>\n"
     ]
    }
   ],
   "source": [
    "# Define a float\n",
    "y = 1.987\n",
    "print(y)\n",
    "print(type(y))\n",
    "\n",
    "# Convert float to integer with the int function\n",
    "z = int(y)\n",
    "print(z)\n",
    "print(type(z))"
   ]
  },
  {
   "cell_type": "markdown",
   "id": "9b6ee49c",
   "metadata": {
    "papermill": {
     "duration": 0.006259,
     "end_time": "2022-12-24T15:58:44.332093",
     "exception": false,
     "start_time": "2022-12-24T15:58:44.325834",
     "status": "completed"
    },
    "tags": []
   },
   "source": [
    "In this case, the float you are using has no numbers after the decimal.  \n",
    "- But what happens when you try to convert a float with a fractional part to an integer?  It's gonna be rounded.\n",
    "- How does the outcome of the `int` function change for positive and negative numbers? The outcome could be positive for positive numbers or negative for negative numbers\n",
    "\n",
    "Use the next code cell to investigate and answer these questions.  Feel free to add or remove any lines of code -- it is your workspace!"
   ]
  },
  {
   "cell_type": "code",
   "execution_count": 3,
   "id": "0c8c044d",
   "metadata": {
    "execution": {
     "iopub.execute_input": "2022-12-24T15:58:44.346825Z",
     "iopub.status.busy": "2022-12-24T15:58:44.346387Z",
     "iopub.status.idle": "2022-12-24T15:58:44.353244Z",
     "shell.execute_reply": "2022-12-24T15:58:44.351782Z"
    },
    "papermill": {
     "duration": 0.017112,
     "end_time": "2022-12-24T15:58:44.355743",
     "exception": false,
     "start_time": "2022-12-24T15:58:44.338631",
     "status": "completed"
    },
    "tags": []
   },
   "outputs": [
    {
     "name": "stdout",
     "output_type": "stream",
     "text": [
      "1\n",
      "1\n",
      "-3\n",
      "-2\n"
     ]
    }
   ],
   "source": [
    "# Uncomment and run this code to get started!\n",
    "print(int(1.2321))\n",
    "print(int(1.747))\n",
    "print(int(-3.94535))\n",
    "print(int(-2.19774))"
   ]
  },
  {
   "cell_type": "markdown",
   "id": "0657b5b9",
   "metadata": {
    "papermill": {
     "duration": 0.00626,
     "end_time": "2022-12-24T15:58:44.370030",
     "exception": false,
     "start_time": "2022-12-24T15:58:44.363770",
     "status": "completed"
    },
    "tags": []
   },
   "source": [
    "Once you have an answer, run the code cell below to see the solution.  Viewing the solution will give you credit for answering the problem."
   ]
  },
  {
   "cell_type": "code",
   "execution_count": 4,
   "id": "d58f1cfb",
   "metadata": {
    "execution": {
     "iopub.execute_input": "2022-12-24T15:58:44.384709Z",
     "iopub.status.busy": "2022-12-24T15:58:44.384231Z",
     "iopub.status.idle": "2022-12-24T15:58:44.391387Z",
     "shell.execute_reply": "2022-12-24T15:58:44.390082Z"
    },
    "papermill": {
     "duration": 0.017407,
     "end_time": "2022-12-24T15:58:44.393886",
     "exception": false,
     "start_time": "2022-12-24T15:58:44.376479",
     "status": "completed"
    },
    "tags": []
   },
   "outputs": [
    {
     "name": "stdout",
     "output_type": "stream",
     "text": [
      "1.923134345\n",
      "<class 'float'>\n",
      "1\n",
      "<class 'int'>\n"
     ]
    }
   ],
   "source": [
    "# Check your answer (Run this code cell to receive credit!)\n",
    "# Define a float\n",
    "y = 1.923134345\n",
    "print(y)\n",
    "print(type(y))\n",
    "\n",
    "# Convert float to integer with the int function\n",
    "z = int(y)\n",
    "print(z)\n",
    "print(type(z))\n"
   ]
  },
  {
   "cell_type": "markdown",
   "id": "f8aaab87",
   "metadata": {
    "papermill": {
     "duration": 0.006313,
     "end_time": "2022-12-24T15:58:44.406941",
     "exception": false,
     "start_time": "2022-12-24T15:58:44.400628",
     "status": "completed"
    },
    "tags": []
   },
   "source": [
    "# Question 2\n",
    "\n",
    "In the tutorial, you learned about booleans (which can take a value of `True` or `False`), in addition to integers, floats, and strings.  For this question, your goal is to determine what happens when you multiply a boolean by any of these data types.  Specifically, \n",
    "- What happens when you multiply an integer or float by `True`?  What happens when you multiply them by `False`?  How does the answer change if the numbers are positive or negative?\n",
    "- What happens when you multiply a string by `True`?  By `False`?\n",
    "\n",
    "Use the next code cell for your investigation. "
   ]
  },
  {
   "cell_type": "markdown",
   "id": "220bf492",
   "metadata": {
    "papermill": {
     "duration": 0.006278,
     "end_time": "2022-12-24T15:58:44.419694",
     "exception": false,
     "start_time": "2022-12-24T15:58:44.413416",
     "status": "completed"
    },
    "tags": []
   },
   "source": []
  },
  {
   "cell_type": "code",
   "execution_count": 5,
   "id": "ed4b96a3",
   "metadata": {
    "execution": {
     "iopub.execute_input": "2022-12-24T15:58:44.434894Z",
     "iopub.status.busy": "2022-12-24T15:58:44.433807Z",
     "iopub.status.idle": "2022-12-24T15:58:44.440383Z",
     "shell.execute_reply": "2022-12-24T15:58:44.438936Z"
    },
    "papermill": {
     "duration": 0.016853,
     "end_time": "2022-12-24T15:58:44.442976",
     "exception": false,
     "start_time": "2022-12-24T15:58:44.426123",
     "status": "completed"
    },
    "tags": []
   },
   "outputs": [
    {
     "name": "stdout",
     "output_type": "stream",
     "text": [
      "3\n",
      "-3.1\n",
      "<class 'str'>\n",
      "0\n"
     ]
    }
   ],
   "source": [
    "# Uncomment and run this code to get started!\n",
    "print(3 * True)\n",
    "print(-3.1 * True)\n",
    "print(type(\"abc\" * False))\n",
    "print(len(\"abc\" * False))"
   ]
  },
  {
   "cell_type": "markdown",
   "id": "faaf7856",
   "metadata": {
    "papermill": {
     "duration": 0.006433,
     "end_time": "2022-12-24T15:58:44.456106",
     "exception": false,
     "start_time": "2022-12-24T15:58:44.449673",
     "status": "completed"
    },
    "tags": []
   },
   "source": [
    "Once you have an answer, run the code cell below to see the solution.  Viewing the solution will give you credit for answering the problem."
   ]
  },
  {
   "cell_type": "code",
   "execution_count": 6,
   "id": "7e9eee2e",
   "metadata": {
    "execution": {
     "iopub.execute_input": "2022-12-24T15:58:44.470932Z",
     "iopub.status.busy": "2022-12-24T15:58:44.470529Z",
     "iopub.status.idle": "2022-12-24T15:58:44.481792Z",
     "shell.execute_reply": "2022-12-24T15:58:44.480625Z"
    },
    "papermill": {
     "duration": 0.021443,
     "end_time": "2022-12-24T15:58:44.484148",
     "exception": false,
     "start_time": "2022-12-24T15:58:44.462705",
     "status": "completed"
    },
    "tags": []
   },
   "outputs": [
    {
     "data": {
      "application/javascript": [
       "parent.postMessage({\"jupyterEvent\": \"custom.exercise_interaction\", \"data\": {\"outcomeType\": 1, \"valueTowardsCompletion\": 0.2, \"interactionType\": 1, \"questionType\": 4, \"questionId\": \"2_MultiplyBooleans\", \"learnToolsVersion\": \"0.3.4\", \"failureMessage\": \"\", \"exceptionClass\": \"\", \"trace\": \"\"}}, \"*\")"
      ],
      "text/plain": [
       "<IPython.core.display.Javascript object>"
      ]
     },
     "metadata": {},
     "output_type": "display_data"
    },
    {
     "data": {
      "text/markdown": [
       "<span style=\"color:#33cc33\">Correct:</span> \n",
       "\n",
       "When you multiple an integer or float by a boolean with value `True`, it just returns that same integer or float (and is equivalent to multiplying by 1).  If you multiply an integer or float by a boolean with value `False`, it always returns 0.  This is true for both positive and negative numbers.  If you multiply a string by a boolean with value `True`, it just returns that same string.  And if you multiply a string by a boolean with value `False`, it returns an empty string (or a string with length zero)."
      ],
      "text/plain": [
       "Correct: \n",
       "\n",
       "When you multiple an integer or float by a boolean with value `True`, it just returns that same integer or float (and is equivalent to multiplying by 1).  If you multiply an integer or float by a boolean with value `False`, it always returns 0.  This is true for both positive and negative numbers.  If you multiply a string by a boolean with value `True`, it just returns that same string.  And if you multiply a string by a boolean with value `False`, it returns an empty string (or a string with length zero)."
      ]
     },
     "metadata": {},
     "output_type": "display_data"
    }
   ],
   "source": [
    "# Check your answer (Run this code cell to receive credit!)\n",
    "q2.check()"
   ]
  },
  {
   "cell_type": "markdown",
   "id": "ae466c2c",
   "metadata": {
    "papermill": {
     "duration": 0.006714,
     "end_time": "2022-12-24T15:58:44.497830",
     "exception": false,
     "start_time": "2022-12-24T15:58:44.491116",
     "status": "completed"
    },
    "tags": []
   },
   "source": [
    "# Question 3\n",
    "\n",
    "In this question, you will build off your work from the previous exercise to write a function that estimates the value of a house.\n",
    "\n",
    "Use the next code cell to create a function `get_expected_cost` that takes as input three variables:\n",
    "- `beds` - number of bedrooms (data type float)\n",
    "- `baths` - number of bathrooms (data type float)\n",
    "- `has_basement` - whether or not the house has a basement (data type boolean)\n",
    "\n",
    "It should return the expected cost of a house with those characteristics. Assume that:\n",
    "- the expected cost for a house with 0 bedrooms and 0 bathrooms, and no basement is 80000, \n",
    "- each bedroom adds 30000 to the expected cost,\n",
    "- each bathroom adds 10000 to the expected cost, and\n",
    "- a basement adds 40000 to the expected cost.\n",
    "\n",
    "For instance,\n",
    "- a house with 1 bedroom, 1 bathroom, and no basement has an expected cost of 80000 + 30000 + 10000 = 120000.  This value will be calculated with `get_expected_cost(1, 1, False)`.\n",
    "- a house with 2 bedrooms, 1 bathroom, and a basement has an expected cost of 80000 + 2*30000 + 10000 + 40000 = 190000.  This value will be calculated with `get_expected_cost(2, 1, True)`.\n",
    "\n",
    "Remember you can always get a hint by uncommenting `q3.hint()` in the code cell following the next!"
   ]
  },
  {
   "cell_type": "code",
   "execution_count": 7,
   "id": "2b3ac150",
   "metadata": {
    "execution": {
     "iopub.execute_input": "2022-12-24T15:58:44.513700Z",
     "iopub.status.busy": "2022-12-24T15:58:44.512930Z",
     "iopub.status.idle": "2022-12-24T15:58:44.522640Z",
     "shell.execute_reply": "2022-12-24T15:58:44.521805Z"
    },
    "papermill": {
     "duration": 0.020167,
     "end_time": "2022-12-24T15:58:44.524823",
     "exception": false,
     "start_time": "2022-12-24T15:58:44.504656",
     "status": "completed"
    },
    "tags": []
   },
   "outputs": [
    {
     "data": {
      "application/javascript": [
       "parent.postMessage({\"jupyterEvent\": \"custom.exercise_interaction\", \"data\": {\"outcomeType\": 1, \"valueTowardsCompletion\": 0.2, \"interactionType\": 1, \"questionType\": 2, \"questionId\": \"3_EstimateHouseValueBool\", \"learnToolsVersion\": \"0.3.4\", \"failureMessage\": \"\", \"exceptionClass\": \"\", \"trace\": \"\"}}, \"*\")"
      ],
      "text/plain": [
       "<IPython.core.display.Javascript object>"
      ]
     },
     "metadata": {},
     "output_type": "display_data"
    },
    {
     "data": {
      "text/markdown": [
       "<span style=\"color:#33cc33\">Correct</span>"
      ],
      "text/plain": [
       "Correct"
      ]
     },
     "metadata": {},
     "output_type": "display_data"
    }
   ],
   "source": [
    "# TODO: Complete the function\n",
    "def get_expected_cost(beds, baths, has_basement):\n",
    "    value = 80000 + 30000 * beds + 10000 * baths + 40000 * has_basement\n",
    "    return value\n",
    "\n",
    "\n",
    "# Check your answer \n",
    "q3.check()"
   ]
  },
  {
   "cell_type": "code",
   "execution_count": 8,
   "id": "565ba857",
   "metadata": {
    "execution": {
     "iopub.execute_input": "2022-12-24T15:58:44.544518Z",
     "iopub.status.busy": "2022-12-24T15:58:44.543691Z",
     "iopub.status.idle": "2022-12-24T15:58:44.556436Z",
     "shell.execute_reply": "2022-12-24T15:58:44.555436Z"
    },
    "papermill": {
     "duration": 0.024638,
     "end_time": "2022-12-24T15:58:44.558611",
     "exception": false,
     "start_time": "2022-12-24T15:58:44.533973",
     "status": "completed"
    },
    "tags": []
   },
   "outputs": [
    {
     "data": {
      "application/javascript": [
       "parent.postMessage({\"jupyterEvent\": \"custom.exercise_interaction\", \"data\": {\"interactionType\": 2, \"questionType\": 2, \"questionId\": \"3_EstimateHouseValueBool\", \"learnToolsVersion\": \"0.3.4\", \"valueTowardsCompletion\": 0.0, \"failureMessage\": \"\", \"exceptionClass\": \"\", \"trace\": \"\", \"outcomeType\": 4}}, \"*\")"
      ],
      "text/plain": [
       "<IPython.core.display.Javascript object>"
      ]
     },
     "metadata": {},
     "output_type": "display_data"
    },
    {
     "data": {
      "text/markdown": [
       "<span style=\"color:#3366cc\">Hint:</span> The variable `has_basement` is either `True` or `False`.  What happens when you multiply it by 40000 (the value of a basement)?  Refer to the previous question if you are unsure."
      ],
      "text/plain": [
       "Hint: The variable `has_basement` is either `True` or `False`.  What happens when you multiply it by 40000 (the value of a basement)?  Refer to the previous question if you are unsure."
      ]
     },
     "metadata": {},
     "output_type": "display_data"
    },
    {
     "data": {
      "application/javascript": [
       "parent.postMessage({\"jupyterEvent\": \"custom.exercise_interaction\", \"data\": {\"interactionType\": 3, \"questionType\": 2, \"questionId\": \"3_EstimateHouseValueBool\", \"learnToolsVersion\": \"0.3.4\", \"valueTowardsCompletion\": 0.0, \"failureMessage\": \"\", \"exceptionClass\": \"\", \"trace\": \"\", \"outcomeType\": 4}}, \"*\")"
      ],
      "text/plain": [
       "<IPython.core.display.Javascript object>"
      ]
     },
     "metadata": {},
     "output_type": "display_data"
    },
    {
     "data": {
      "text/markdown": [
       "<span style=\"color:#33cc99\">Solution:</span> \n",
       "```python\n",
       "def get_expected_cost(beds, baths, has_basement):\n",
       "    value = 80000 + 30000 * beds + 10000 * baths + 40000 * has_basement\n",
       "    return value\n",
       "\n",
       "```"
      ],
      "text/plain": [
       "Solution: \n",
       "```python\n",
       "def get_expected_cost(beds, baths, has_basement):\n",
       "    value = 80000 + 30000 * beds + 10000 * baths + 40000 * has_basement\n",
       "    return value\n",
       "\n",
       "```"
      ]
     },
     "metadata": {},
     "output_type": "display_data"
    }
   ],
   "source": [
    "# Uncomment to see a hint\n",
    "q3.hint()\n",
    "\n",
    "# Uncomment to view the solution\n",
    "q3.solution()"
   ]
  },
  {
   "cell_type": "markdown",
   "id": "bbd3a76b",
   "metadata": {
    "papermill": {
     "duration": 0.007235,
     "end_time": "2022-12-24T15:58:44.573409",
     "exception": false,
     "start_time": "2022-12-24T15:58:44.566174",
     "status": "completed"
    },
    "tags": []
   },
   "source": [
    "# Question 4\n",
    "\n",
    "We'll continue our study of boolean arithmetic.  For this question, your task is to provide a description of what happpens when you add booleans. \n",
    "\n",
    "Use the next code cell for your investigation.  Feel free to add or remove any lines of code - use it as your workspace!"
   ]
  },
  {
   "cell_type": "code",
   "execution_count": 9,
   "id": "d861b81e",
   "metadata": {
    "execution": {
     "iopub.execute_input": "2022-12-24T15:58:44.590389Z",
     "iopub.status.busy": "2022-12-24T15:58:44.590013Z",
     "iopub.status.idle": "2022-12-24T15:58:44.597898Z",
     "shell.execute_reply": "2022-12-24T15:58:44.596846Z"
    },
    "papermill": {
     "duration": 0.020867,
     "end_time": "2022-12-24T15:58:44.601947",
     "exception": false,
     "start_time": "2022-12-24T15:58:44.581080",
     "status": "completed"
    },
    "tags": []
   },
   "outputs": [
    {
     "name": "stdout",
     "output_type": "stream",
     "text": [
      "0\n",
      "1\n",
      "1\n",
      "1\n",
      "2\n",
      "1\n",
      "1\n",
      "4\n"
     ]
    }
   ],
   "source": [
    "print(False + False)\n",
    "print(True + False)\n",
    "print (False + True)\n",
    "print(True + False)\n",
    "print(True + True + False)\n",
    "print(True + False + False)\n",
    "print(False + True + False)\n",
    "print(True + True + False + True + True + False)\n",
    "\n",
    "\n",
    "\n",
    "\n"
   ]
  },
  {
   "cell_type": "markdown",
   "id": "7ed6f7a9",
   "metadata": {
    "papermill": {
     "duration": 0.008486,
     "end_time": "2022-12-24T15:58:44.622419",
     "exception": false,
     "start_time": "2022-12-24T15:58:44.613933",
     "status": "completed"
    },
    "tags": []
   },
   "source": [
    "Once you have an answer, run the code cell below to see the solution.  Viewing the solution will give you credit for answering the problem."
   ]
  },
  {
   "cell_type": "code",
   "execution_count": 10,
   "id": "fae281cb",
   "metadata": {
    "execution": {
     "iopub.execute_input": "2022-12-24T15:58:44.642178Z",
     "iopub.status.busy": "2022-12-24T15:58:44.641495Z",
     "iopub.status.idle": "2022-12-24T15:58:44.650366Z",
     "shell.execute_reply": "2022-12-24T15:58:44.649602Z"
    },
    "papermill": {
     "duration": 0.021574,
     "end_time": "2022-12-24T15:58:44.653044",
     "exception": false,
     "start_time": "2022-12-24T15:58:44.631470",
     "status": "completed"
    },
    "tags": []
   },
   "outputs": [
    {
     "data": {
      "application/javascript": [
       "parent.postMessage({\"jupyterEvent\": \"custom.exercise_interaction\", \"data\": {\"outcomeType\": 1, \"valueTowardsCompletion\": 0.2, \"interactionType\": 1, \"questionType\": 4, \"questionId\": \"4_AddingBooleans\", \"learnToolsVersion\": \"0.3.4\", \"failureMessage\": \"\", \"exceptionClass\": \"\", \"trace\": \"\"}}, \"*\")"
      ],
      "text/plain": [
       "<IPython.core.display.Javascript object>"
      ]
     },
     "metadata": {},
     "output_type": "display_data"
    },
    {
     "data": {
      "text/markdown": [
       "<span style=\"color:#33cc33\">Correct:</span> \n",
       "\n",
       "When you add booleans, adding `False` is equivalent to adding 0, and adding `True` is equivalent to adding 1."
      ],
      "text/plain": [
       "Correct: \n",
       "\n",
       "When you add booleans, adding `False` is equivalent to adding 0, and adding `True` is equivalent to adding 1."
      ]
     },
     "metadata": {},
     "output_type": "display_data"
    }
   ],
   "source": [
    "# Check your answer (Run this code cell to receive credit!)\n",
    "q4.check()"
   ]
  },
  {
   "cell_type": "markdown",
   "id": "469afb25",
   "metadata": {
    "papermill": {
     "duration": 0.009329,
     "end_time": "2022-12-24T15:58:44.671894",
     "exception": false,
     "start_time": "2022-12-24T15:58:44.662565",
     "status": "completed"
    },
    "tags": []
   },
   "source": [
    "# 🌶️ Question 5\n",
    "\n",
    "You own an online shop where you sell rings with custom engravings.  You offer both gold plated and solid gold rings.\n",
    "- Gold plated rings have a base cost of \\\\$50, and you charge \\\\$7 per engraved unit.  \n",
    "- Solid gold rings have a base cost of \\\\$100, and you charge \\\\$10 per engraved unit.\n",
    "- Spaces and punctuation are counted as engraved units.\n",
    "\n",
    "Write a function `cost_of_project()` that takes two arguments:\n",
    "- `engraving` - a Python string with the text of the engraving\n",
    "- `solid_gold` - a Boolean that indicates whether the ring is solid gold\n",
    "\n",
    "It should return the cost of the project.  This question should be fairly challenging, and you may need a hint."
   ]
  },
  {
   "cell_type": "code",
   "execution_count": 11,
   "id": "9e451df4",
   "metadata": {
    "execution": {
     "iopub.execute_input": "2022-12-24T15:58:44.690305Z",
     "iopub.status.busy": "2022-12-24T15:58:44.689583Z",
     "iopub.status.idle": "2022-12-24T15:58:44.699028Z",
     "shell.execute_reply": "2022-12-24T15:58:44.698035Z"
    },
    "papermill": {
     "duration": 0.021048,
     "end_time": "2022-12-24T15:58:44.701107",
     "exception": false,
     "start_time": "2022-12-24T15:58:44.680059",
     "status": "completed"
    },
    "tags": []
   },
   "outputs": [
    {
     "data": {
      "application/javascript": [
       "parent.postMessage({\"jupyterEvent\": \"custom.exercise_interaction\", \"data\": {\"outcomeType\": 1, \"valueTowardsCompletion\": 0.2, \"interactionType\": 1, \"questionType\": 2, \"questionId\": \"5_CustomEngravings\", \"learnToolsVersion\": \"0.3.4\", \"failureMessage\": \"\", \"exceptionClass\": \"\", \"trace\": \"\"}}, \"*\")"
      ],
      "text/plain": [
       "<IPython.core.display.Javascript object>"
      ]
     },
     "metadata": {},
     "output_type": "display_data"
    },
    {
     "data": {
      "text/markdown": [
       "<span style=\"color:#33cc33\">Correct</span>"
      ],
      "text/plain": [
       "Correct"
      ]
     },
     "metadata": {},
     "output_type": "display_data"
    }
   ],
   "source": [
    "def cost_of_project(engraving, solid_gold):\n",
    "    cost = solid_gold * (100 + 10 * len(engraving)) + (not solid_gold) * (50 + 7 * len(engraving))\n",
    "    \n",
    "    return cost\n",
    "\n",
    "\n",
    "# Check your answer\n",
    "q5.check()"
   ]
  },
  {
   "cell_type": "code",
   "execution_count": 12,
   "id": "e26b95d9",
   "metadata": {
    "execution": {
     "iopub.execute_input": "2022-12-24T15:58:44.719492Z",
     "iopub.status.busy": "2022-12-24T15:58:44.718803Z",
     "iopub.status.idle": "2022-12-24T15:58:44.728876Z",
     "shell.execute_reply": "2022-12-24T15:58:44.728109Z"
    },
    "papermill": {
     "duration": 0.021664,
     "end_time": "2022-12-24T15:58:44.730973",
     "exception": false,
     "start_time": "2022-12-24T15:58:44.709309",
     "status": "completed"
    },
    "tags": []
   },
   "outputs": [
    {
     "data": {
      "application/javascript": [
       "parent.postMessage({\"jupyterEvent\": \"custom.exercise_interaction\", \"data\": {\"interactionType\": 2, \"questionType\": 2, \"questionId\": \"5_CustomEngravings\", \"learnToolsVersion\": \"0.3.4\", \"valueTowardsCompletion\": 0.0, \"failureMessage\": \"\", \"exceptionClass\": \"\", \"trace\": \"\", \"outcomeType\": 4}}, \"*\")"
      ],
      "text/plain": [
       "<IPython.core.display.Javascript object>"
      ]
     },
     "metadata": {},
     "output_type": "display_data"
    },
    {
     "data": {
      "text/markdown": [
       "<span style=\"color:#3366cc\">Hint:</span> There are two options - either the project uses solid gold or does not.  With this in mind, you can structure your solution like this: `cost = solid_gold * ____ + (not_solid_gold) * ____`.  You need to figure out how to fill in the blanks. Also, remember that:\n",
       "- If `solid_gold = True`, then `(not solid_gold) = False`, and if `solid_gold = False`, then `(not solid_gold) = True`.\n",
       "- Multiplying an integer by `True` is equivalent to multiplying it by 1, and multiplying an integer by `False` is equivalent to multiplying it by 0."
      ],
      "text/plain": [
       "Hint: There are two options - either the project uses solid gold or does not.  With this in mind, you can structure your solution like this: `cost = solid_gold * ____ + (not_solid_gold) * ____`.  You need to figure out how to fill in the blanks. Also, remember that:\n",
       "- If `solid_gold = True`, then `(not solid_gold) = False`, and if `solid_gold = False`, then `(not solid_gold) = True`.\n",
       "- Multiplying an integer by `True` is equivalent to multiplying it by 1, and multiplying an integer by `False` is equivalent to multiplying it by 0."
      ]
     },
     "metadata": {},
     "output_type": "display_data"
    },
    {
     "data": {
      "application/javascript": [
       "parent.postMessage({\"jupyterEvent\": \"custom.exercise_interaction\", \"data\": {\"interactionType\": 3, \"questionType\": 2, \"questionId\": \"5_CustomEngravings\", \"learnToolsVersion\": \"0.3.4\", \"valueTowardsCompletion\": 0.0, \"failureMessage\": \"\", \"exceptionClass\": \"\", \"trace\": \"\", \"outcomeType\": 4}}, \"*\")"
      ],
      "text/plain": [
       "<IPython.core.display.Javascript object>"
      ]
     },
     "metadata": {},
     "output_type": "display_data"
    },
    {
     "data": {
      "text/markdown": [
       "<span style=\"color:#33cc99\">Solution:</span> \n",
       "```python\n",
       "def cost_of_project(engraving, solid_gold):\n",
       "    cost = solid_gold * (100 + 10 * len(engraving)) + (not solid_gold) * (50 + 7 * len(engraving))\n",
       "    return cost\n",
       "\n",
       "```"
      ],
      "text/plain": [
       "Solution: \n",
       "```python\n",
       "def cost_of_project(engraving, solid_gold):\n",
       "    cost = solid_gold * (100 + 10 * len(engraving)) + (not solid_gold) * (50 + 7 * len(engraving))\n",
       "    return cost\n",
       "\n",
       "```"
      ]
     },
     "metadata": {},
     "output_type": "display_data"
    }
   ],
   "source": [
    "# Uncomment to see a hint\n",
    "q5.hint()\n",
    "\n",
    "# Uncomment to view the solution\n",
    "q5.solution()"
   ]
  },
  {
   "cell_type": "markdown",
   "id": "db1427c3",
   "metadata": {
    "papermill": {
     "duration": 0.008502,
     "end_time": "2022-12-24T15:58:44.748787",
     "exception": false,
     "start_time": "2022-12-24T15:58:44.740285",
     "status": "completed"
    },
    "tags": []
   },
   "source": [
    "Run the next code cell to calculate the cost of engraving `Charlie+Denver` on a solid gold ring."
   ]
  },
  {
   "cell_type": "code",
   "execution_count": 13,
   "id": "0c4327c1",
   "metadata": {
    "execution": {
     "iopub.execute_input": "2022-12-24T15:58:44.768452Z",
     "iopub.status.busy": "2022-12-24T15:58:44.767731Z",
     "iopub.status.idle": "2022-12-24T15:58:44.773484Z",
     "shell.execute_reply": "2022-12-24T15:58:44.772362Z"
    },
    "papermill": {
     "duration": 0.018139,
     "end_time": "2022-12-24T15:58:44.775699",
     "exception": false,
     "start_time": "2022-12-24T15:58:44.757560",
     "status": "completed"
    },
    "tags": []
   },
   "outputs": [
    {
     "name": "stdout",
     "output_type": "stream",
     "text": [
      "240\n"
     ]
    }
   ],
   "source": [
    "project_one = cost_of_project(\"Charlie+Denver\", True)\n",
    "print(project_one)"
   ]
  },
  {
   "cell_type": "markdown",
   "id": "cd7fb152",
   "metadata": {
    "papermill": {
     "duration": 0.008383,
     "end_time": "2022-12-24T15:58:44.792946",
     "exception": false,
     "start_time": "2022-12-24T15:58:44.784563",
     "status": "completed"
    },
    "tags": []
   },
   "source": [
    "Use the next code cell to calculate the cost of engraving `08/10/2000` on a gold plated ring."
   ]
  },
  {
   "cell_type": "code",
   "execution_count": 14,
   "id": "5040512f",
   "metadata": {
    "execution": {
     "iopub.execute_input": "2022-12-24T15:58:44.812581Z",
     "iopub.status.busy": "2022-12-24T15:58:44.811859Z",
     "iopub.status.idle": "2022-12-24T15:58:44.817857Z",
     "shell.execute_reply": "2022-12-24T15:58:44.816556Z"
    },
    "papermill": {
     "duration": 0.018413,
     "end_time": "2022-12-24T15:58:44.820141",
     "exception": false,
     "start_time": "2022-12-24T15:58:44.801728",
     "status": "completed"
    },
    "tags": []
   },
   "outputs": [
    {
     "name": "stdout",
     "output_type": "stream",
     "text": [
      "120\n"
     ]
    }
   ],
   "source": [
    "project_two = cost_of_project(\"08/10/2000\", False)\n",
    "print(project_two)"
   ]
  },
  {
   "cell_type": "markdown",
   "id": "3efd1a6a",
   "metadata": {
    "papermill": {
     "duration": 0.010924,
     "end_time": "2022-12-24T15:58:44.839962",
     "exception": false,
     "start_time": "2022-12-24T15:58:44.829038",
     "status": "completed"
    },
    "tags": []
   },
   "source": [
    "# Keep going\n",
    "\n",
    "Continue to the next lesson to **[learn about conditions and conditional statements](https://www.kaggle.com/alexisbcook/conditions-and-conditional-statements)**."
   ]
  },
  {
   "cell_type": "markdown",
   "id": "1c06fb4f",
   "metadata": {
    "papermill": {
     "duration": 0.011389,
     "end_time": "2022-12-24T15:58:44.860498",
     "exception": false,
     "start_time": "2022-12-24T15:58:44.849109",
     "status": "completed"
    },
    "tags": []
   },
   "source": [
    "---\n",
    "\n",
    "\n",
    "\n",
    "\n",
    "*Have questions or comments? Visit the [course discussion forum](https://www.kaggle.com/learn/intro-to-programming/discussion) to chat with other learners.*"
   ]
  }
 ],
 "metadata": {
  "kernelspec": {
   "display_name": "Python 3",
   "language": "python",
   "name": "python3"
  },
  "language_info": {
   "codemirror_mode": {
    "name": "ipython",
    "version": 3
   },
   "file_extension": ".py",
   "mimetype": "text/x-python",
   "name": "python",
   "nbconvert_exporter": "python",
   "pygments_lexer": "ipython3",
   "version": "3.7.12"
  },
  "papermill": {
   "default_parameters": {},
   "duration": 10.04601,
   "end_time": "2022-12-24T15:58:45.595093",
   "environment_variables": {},
   "exception": null,
   "input_path": "__notebook__.ipynb",
   "output_path": "__notebook__.ipynb",
   "parameters": {},
   "start_time": "2022-12-24T15:58:35.549083",
   "version": "2.3.4"
  }
 },
 "nbformat": 4,
 "nbformat_minor": 5
}
